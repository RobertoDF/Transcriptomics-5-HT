{
 "cells": [
  {
   "cell_type": "markdown",
   "metadata": {},
   "source": [
    "# Load MERFISH whole brain spatial transcriptomics\n",
    "\n"
   ]
  },
  {
   "cell_type": "code",
   "execution_count": 3,
   "metadata": {},
   "outputs": [],
   "source": [
    "import os\n",
    "import pandas as pd\n",
    "import numpy as np\n",
    "import anndata\n",
    "import time\n",
    "import json\n",
    "import requests\n",
    "from Utils.Settings import root_data, version"
   ]
  },
  {
   "cell_type": "code",
   "execution_count": 5,
   "metadata": {},
   "outputs": [],
   "source": [
    "download_base = f'{root_data}/abc_download_root'\n",
    "\n",
    "use_local_cache = False\n",
    "manifest_path = 'releases/%s/manifest.json' % version\n",
    "\n",
    "if not use_local_cache :\n",
    "    url = 'https://allen-brain-cell-atlas.s3-us-west-2.amazonaws.com/' + manifest_path\n",
    "    manifest = json.loads(requests.get(url).text)\n",
    "else :\n",
    "    file = os.path.join(download_base,manifest_path)\n",
    "    with open(file,'rb') as f:\n",
    "        manifest = json.load(f)\n",
    "    \n",
    "metadata = manifest['file_listing']['MERFISH-C57BL6J-638850']['metadata']"
   ]
  },
  {
   "cell_type": "code",
   "execution_count": 6,
   "metadata": {},
   "outputs": [],
   "source": [
    "view_directory = os.path.join( download_base, \n",
    "                               manifest['directory_listing']['MERFISH-C57BL6J-638850']['directories']['metadata']['relative_path'], \n",
    "                              'views')\n",
    "cache_views = True\n",
    "if cache_views :\n",
    "    os.makedirs( view_directory, exist_ok=True )"
   ]
  },
  {
   "cell_type": "code",
   "execution_count": 7,
   "metadata": {},
   "outputs": [
    {
     "name": "stdout",
     "output_type": "stream",
     "text": [
      "3938808\n"
     ]
    }
   ],
   "source": [
    "rpath = metadata['cell_metadata']['files']['csv']['relative_path']\n",
    "file = os.path.join( download_base, rpath)\n",
    "cell = pd.read_csv(file, dtype={'cell_label':str})\n",
    "cell.set_index('cell_label',inplace=True)\n",
    "print(len(cell))"
   ]
  },
  {
   "cell_type": "code",
   "execution_count": 8,
   "metadata": {},
   "outputs": [],
   "source": [
    "expression_matrices = manifest['file_listing']['MERFISH-C57BL6J-638850']['expression_matrices']"
   ]
  },
  {
   "cell_type": "code",
   "execution_count": 9,
   "metadata": {},
   "outputs": [
    {
     "name": "stdout",
     "output_type": "stream",
     "text": [
      "/alzheimer/Roberto/Allen_Institute/abc_download_root/expression_matrices/MERFISH-C57BL6J-638850/20230830/C57BL6J-638850-log2.h5ad\n"
     ]
    }
   ],
   "source": [
    "rpath = expression_matrices['C57BL6J-638850']['log2']['files']['h5ad']['relative_path']\n",
    "file = os.path.join( download_base, rpath)\n",
    "print(file)"
   ]
  },
  {
   "cell_type": "code",
   "execution_count": 10,
   "metadata": {},
   "outputs": [],
   "source": [
    "adata = anndata.read_h5ad(file,backed='r')\n",
    "gene = adata.var"
   ]
  },
  {
   "cell_type": "code",
   "execution_count": 11,
   "metadata": {},
   "outputs": [
    {
     "data": {
      "text/html": [
       "<div>\n",
       "<style scoped>\n",
       "    .dataframe tbody tr th:only-of-type {\n",
       "        vertical-align: middle;\n",
       "    }\n",
       "\n",
       "    .dataframe tbody tr th {\n",
       "        vertical-align: top;\n",
       "    }\n",
       "\n",
       "    .dataframe thead th {\n",
       "        text-align: right;\n",
       "    }\n",
       "</style>\n",
       "<table border=\"1\" class=\"dataframe\">\n",
       "  <thead>\n",
       "    <tr style=\"text-align: right;\">\n",
       "      <th></th>\n",
       "      <th>gene_symbol</th>\n",
       "      <th>transcript_identifier</th>\n",
       "    </tr>\n",
       "    <tr>\n",
       "      <th>gene_identifier</th>\n",
       "      <th></th>\n",
       "      <th></th>\n",
       "    </tr>\n",
       "  </thead>\n",
       "  <tbody>\n",
       "    <tr>\n",
       "      <th>ENSMUSG00000026778</th>\n",
       "      <td>Prkcq</td>\n",
       "      <td>ENSMUST00000028118</td>\n",
       "    </tr>\n",
       "    <tr>\n",
       "      <th>ENSMUSG00000026837</th>\n",
       "      <td>Col5a1</td>\n",
       "      <td>ENSMUST00000028280</td>\n",
       "    </tr>\n",
       "    <tr>\n",
       "      <th>ENSMUSG00000001985</th>\n",
       "      <td>Grik3</td>\n",
       "      <td>ENSMUST00000030676</td>\n",
       "    </tr>\n",
       "    <tr>\n",
       "      <th>ENSMUSG00000039323</th>\n",
       "      <td>Igfbp2</td>\n",
       "      <td>ENSMUST00000047328</td>\n",
       "    </tr>\n",
       "    <tr>\n",
       "      <th>ENSMUSG00000048387</th>\n",
       "      <td>Osr1</td>\n",
       "      <td>ENSMUST00000057021</td>\n",
       "    </tr>\n",
       "    <tr>\n",
       "      <th>...</th>\n",
       "      <td>...</td>\n",
       "      <td>...</td>\n",
       "    </tr>\n",
       "    <tr>\n",
       "      <th>Blank-33</th>\n",
       "      <td>Blank-33</td>\n",
       "      <td>Blank-33</td>\n",
       "    </tr>\n",
       "    <tr>\n",
       "      <th>Blank-34</th>\n",
       "      <td>Blank-34</td>\n",
       "      <td>Blank-34</td>\n",
       "    </tr>\n",
       "    <tr>\n",
       "      <th>Blank-45</th>\n",
       "      <td>Blank-45</td>\n",
       "      <td>Blank-45</td>\n",
       "    </tr>\n",
       "    <tr>\n",
       "      <th>Blank-23</th>\n",
       "      <td>Blank-23</td>\n",
       "      <td>Blank-23</td>\n",
       "    </tr>\n",
       "    <tr>\n",
       "      <th>Blank-48</th>\n",
       "      <td>Blank-48</td>\n",
       "      <td>Blank-48</td>\n",
       "    </tr>\n",
       "  </tbody>\n",
       "</table>\n",
       "<p>550 rows × 2 columns</p>\n",
       "</div>"
      ],
      "text/plain": [
       "                   gene_symbol transcript_identifier\n",
       "gene_identifier                                     \n",
       "ENSMUSG00000026778       Prkcq    ENSMUST00000028118\n",
       "ENSMUSG00000026837      Col5a1    ENSMUST00000028280\n",
       "ENSMUSG00000001985       Grik3    ENSMUST00000030676\n",
       "ENSMUSG00000039323      Igfbp2    ENSMUST00000047328\n",
       "ENSMUSG00000048387        Osr1    ENSMUST00000057021\n",
       "...                        ...                   ...\n",
       "Blank-33              Blank-33              Blank-33\n",
       "Blank-34              Blank-34              Blank-34\n",
       "Blank-45              Blank-45              Blank-45\n",
       "Blank-23              Blank-23              Blank-23\n",
       "Blank-48              Blank-48              Blank-48\n",
       "\n",
       "[550 rows x 2 columns]"
      ]
     },
     "execution_count": 11,
     "metadata": {},
     "output_type": "execute_result"
    }
   ],
   "source": [
    "adata.var"
   ]
  },
  {
   "cell_type": "code",
   "execution_count": 12,
   "metadata": {},
   "outputs": [
    {
     "data": {
      "text/html": [
       "<div>\n",
       "<style scoped>\n",
       "    .dataframe tbody tr th:only-of-type {\n",
       "        vertical-align: middle;\n",
       "    }\n",
       "\n",
       "    .dataframe tbody tr th {\n",
       "        vertical-align: top;\n",
       "    }\n",
       "\n",
       "    .dataframe thead th {\n",
       "        text-align: right;\n",
       "    }\n",
       "</style>\n",
       "<table border=\"1\" class=\"dataframe\">\n",
       "  <thead>\n",
       "    <tr style=\"text-align: right;\">\n",
       "      <th></th>\n",
       "      <th>gene_symbol</th>\n",
       "      <th>transcript_identifier</th>\n",
       "    </tr>\n",
       "    <tr>\n",
       "      <th>gene_identifier</th>\n",
       "      <th></th>\n",
       "      <th></th>\n",
       "    </tr>\n",
       "  </thead>\n",
       "  <tbody>\n",
       "    <tr>\n",
       "      <th>ENSMUSG00000024798</th>\n",
       "      <td>Htr7</td>\n",
       "      <td>ENSMUST00000164639</td>\n",
       "    </tr>\n",
       "    <tr>\n",
       "      <th>ENSMUSG00000034997</th>\n",
       "      <td>Htr2a</td>\n",
       "      <td>ENSMUST00000036653</td>\n",
       "    </tr>\n",
       "    <tr>\n",
       "      <th>ENSMUSG00000070687</th>\n",
       "      <td>Htr1d</td>\n",
       "      <td>ENSMUST00000088677</td>\n",
       "    </tr>\n",
       "    <tr>\n",
       "      <th>ENSMUSG00000049511</th>\n",
       "      <td>Htr1b</td>\n",
       "      <td>ENSMUST00000183482</td>\n",
       "    </tr>\n",
       "    <tr>\n",
       "      <th>ENSMUSG00000032269</th>\n",
       "      <td>Htr3a</td>\n",
       "      <td>ENSMUST00000217289</td>\n",
       "    </tr>\n",
       "  </tbody>\n",
       "</table>\n",
       "</div>"
      ],
      "text/plain": [
       "                   gene_symbol transcript_identifier\n",
       "gene_identifier                                     \n",
       "ENSMUSG00000024798        Htr7    ENSMUST00000164639\n",
       "ENSMUSG00000034997       Htr2a    ENSMUST00000036653\n",
       "ENSMUSG00000070687       Htr1d    ENSMUST00000088677\n",
       "ENSMUSG00000049511       Htr1b    ENSMUST00000183482\n",
       "ENSMUSG00000032269       Htr3a    ENSMUST00000217289"
      ]
     },
     "execution_count": 12,
     "metadata": {},
     "output_type": "execute_result"
    }
   ],
   "source": [
    "#new\n",
    "gnames = adata.var.gene_symbol[adata.var.gene_symbol.str.contains(\"Htr\")].values\n",
    "pred = [x in gnames for x in gene.gene_symbol]\n",
    "gene_filtered = gene[pred]\n",
    "gene_filtered"
   ]
  },
  {
   "cell_type": "code",
   "execution_count": 10,
   "metadata": {},
   "outputs": [
    {
     "name": "stdout",
     "output_type": "stream",
     "text": [
      "time taken:  33.08966260700001\n"
     ]
    }
   ],
   "source": [
    "start = time.process_time()\n",
    "gdata = adata[:,gene_filtered.index].to_df()\n",
    "print(\"time taken: \", time.process_time() - start)"
   ]
  },
  {
   "cell_type": "code",
   "execution_count": 11,
   "metadata": {},
   "outputs": [
    {
     "name": "stdout",
     "output_type": "stream",
     "text": [
      "4334174\n"
     ]
    }
   ],
   "source": [
    "# change columns from index to gene symbol\n",
    "gdata.columns = gene_filtered.gene_symbol\n",
    "pred = pd.notna(gdata[gdata.columns[0]])\n",
    "gdata = gdata[pred].copy(deep=True)\n",
    "print(len(gdata))"
   ]
  },
  {
   "cell_type": "code",
   "execution_count": 12,
   "metadata": {},
   "outputs": [],
   "source": [
    "if cache_views :\n",
    "    file = os.path.join( view_directory, 'example_genes_all_cells_expression.csv')\n",
    "    gdata.to_csv( file )"
   ]
  },
  {
   "cell_type": "markdown",
   "metadata": {},
   "source": [
    "Close h5ad file and clean up"
   ]
  },
  {
   "cell_type": "code",
   "execution_count": 13,
   "metadata": {},
   "outputs": [],
   "source": [
    "adata.file.close()\n",
    "del adata"
   ]
  },
  {
   "cell_type": "code",
   "execution_count": 14,
   "metadata": {},
   "outputs": [
    {
     "data": {
      "text/plain": [
       "'/alzheimer/Roberto/Allen_Institute/abc_download_root/metadata/MERFISH-C57BL6J-638850/20230830/views/example_genes_all_cells_expression.csv'"
      ]
     },
     "execution_count": 14,
     "metadata": {},
     "output_type": "execute_result"
    }
   ],
   "source": [
    "file"
   ]
  },
  {
   "cell_type": "code",
   "execution_count": null,
   "metadata": {},
   "outputs": [],
   "source": []
  },
  {
   "cell_type": "code",
   "execution_count": null,
   "metadata": {},
   "outputs": [],
   "source": []
  }
 ],
 "metadata": {
  "kernelspec": {
   "display_name": "Python 3 (ipykernel)",
   "language": "python",
   "name": "python3"
  },
  "language_info": {
   "codemirror_mode": {
    "name": "ipython",
    "version": 3
   },
   "file_extension": ".py",
   "mimetype": "text/x-python",
   "name": "python",
   "nbconvert_exporter": "python",
   "pygments_lexer": "ipython3",
   "version": "3.8.17"
  }
 },
 "nbformat": 4,
 "nbformat_minor": 4
}
