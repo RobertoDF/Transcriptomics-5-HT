{
 "cells": [
  {
   "cell_type": "code",
   "execution_count": 2,
   "id": "ec7906ad-120e-467d-8339-dd0f0b866878",
   "metadata": {
    "editable": true,
    "slideshow": {
     "slide_type": ""
    },
    "tags": []
   },
   "outputs": [],
   "source": [
    "%load_ext autoreload\n",
    "%autoreload all\n",
    "import os\n",
    "os.chdir(\"..\")\n",
    "import pandas as pd\n",
    "import anndata\n",
    "import time\n",
    "from tqdm.notebook import tqdm\n",
    "from Utils.Settings import family_name,class_to_division, class_to_broad_division,neuron_cluster_groups_order, manifest, download_base, output_folder_calculations, output_folder\n",
    "from Utils.Utils import broad_division_color_map, cluster_groups_cmap, percentage_above_threshold_MER, percentage_above_threshold\n",
    "from pathlib import Path\n",
    "import numpy as np"
   ]
  },
  {
   "cell_type": "markdown",
   "id": "7d033a1a-1a8b-453c-94f3-b58620777e1e",
   "metadata": {},
   "source": [
    "# Load data"
   ]
  },
  {
   "cell_type": "code",
   "execution_count": 2,
   "id": "c01cb435-b513-4a87-8caa-469e47c5f721",
   "metadata": {},
   "outputs": [],
   "source": [
    "metadata = manifest['file_listing']['WMB-10X']['metadata']"
   ]
  },
  {
   "cell_type": "code",
   "execution_count": 3,
   "id": "ebde1bbc-b909-4872-a02f-8d24fdc90522",
   "metadata": {},
   "outputs": [],
   "source": [
    "rpath = metadata['cell_metadata_with_cluster_annotation']['files']['csv']['relative_path']\n",
    "file = os.path.join( download_base, rpath )\n",
    "cell = pd.read_csv(file, keep_default_na=False)\n",
    "cell.set_index('cell_label',inplace=True)"
   ]
  },
  {
   "cell_type": "code",
   "execution_count": 4,
   "id": "115995e5-57cf-42ed-9543-cab1e13c4eb4",
   "metadata": {},
   "outputs": [],
   "source": [
    "matrices = cell.groupby(['dataset_label','feature_matrix_label'])[['library_label']].count()\n",
    "matrices.columns  = ['cell_count']\n"
   ]
  },
  {
   "cell_type": "code",
   "execution_count": 5,
   "id": "b273ad40-7be8-49b0-99f8-4996764d0a6b",
   "metadata": {},
   "outputs": [],
   "source": [
    "rpath = metadata['example_genes_all_cells_expression']['files']['csv']['relative_path']\n",
    "file = os.path.join( download_base, rpath.replace('example_genes_all_cells_expression.csv', f'{family_name}_genes_all_cells_expression.csv'))\n",
    "exp = pd.read_csv(file)\n",
    "exp.set_index('cell_label',inplace=True)\n",
    "exp = exp.sort_index(axis=1)\n"
   ]
  },
  {
   "cell_type": "markdown",
   "id": "2f22c7aa-9d96-4235-a038-4cd8b9dc37c8",
   "metadata": {},
   "source": [
    "# Process"
   ]
  },
  {
   "cell_type": "code",
   "execution_count": 6,
   "id": "4a777665-c559-4df6-b9ba-3b8ad84dcef5",
   "metadata": {},
   "outputs": [],
   "source": [
    "cell[\"division\"] = cell['class'].map(class_to_division)\n",
    "cell[\"broad_division\"] = cell['class'].map(class_to_broad_division)"
   ]
  },
  {
   "cell_type": "code",
   "execution_count": 7,
   "id": "2cc5403f-5dac-4385-8069-aadde5bb6775",
   "metadata": {},
   "outputs": [],
   "source": [
    "metadata = manifest['file_listing']['WMB-neighborhoods']['metadata']\n",
    "rpath = metadata['cluster_group_membership']['files']['csv']['relative_path']\n",
    "file = os.path.join( download_base, rpath)\n",
    "group_membership = pd.read_csv(file) # cluster can belong to two different groups\n"
   ]
  },
  {
   "cell_type": "code",
   "execution_count": 8,
   "id": "512c899e-c7b3-411b-9d1e-ceb1ade468ea",
   "metadata": {},
   "outputs": [],
   "source": [
    "cell_with_membership = cell.reset_index().merge(group_membership[[\"cluster_group_label\", \"cluster_alias\", \"cluster_group_name\"]], on='cluster_alias').set_index(\"cell_label\")\n"
   ]
  },
  {
   "cell_type": "code",
   "execution_count": 9,
   "id": "2cad73c3-b536-4bb1-96ed-94ce7cbaf767",
   "metadata": {},
   "outputs": [],
   "source": [
    "cell_with_membership[\"cluster_group_color\"] = cell_with_membership[\"cluster_group_name\"].map(cluster_groups_cmap)\n",
    "cell['broad_division_color'] = cell['broad_division'].map(broad_division_color_map)"
   ]
  },
  {
   "cell_type": "code",
   "execution_count": 10,
   "id": "28eae90a-f884-4687-85f7-60033e98bbb8",
   "metadata": {},
   "outputs": [],
   "source": [
    "selected_genes = exp.columns.sort_values()\n",
    "\n",
    "joined = cell.join(exp)\n",
    "joined_boolean =  cell.join( exp.astype(\"bool\") )\n",
    "subsampled = joined.loc[::30]"
   ]
  },
  {
   "cell_type": "code",
   "execution_count": 11,
   "id": "45160a26-284d-49b4-b492-083082525c7a",
   "metadata": {},
   "outputs": [],
   "source": [
    "joined_with_membership = cell_with_membership.join(exp)\n",
    "\n",
    "joined_boolean_with_membership =  cell_with_membership.join( exp.astype(\"bool\") )\n",
    "subsampled_with_membership = joined_with_membership.loc[::30]"
   ]
  },
  {
   "cell_type": "markdown",
   "id": "c1a614b9-ab4c-4d5f-8f37-e4137e157e73",
   "metadata": {},
   "source": [
    "The prerequisite for running this notebook is that the data have been downloaded to local directory maintaining the organization from the manifest.json. **Change the download_base variable to where you have downloaded the data in your system.**"
   ]
  },
  {
   "cell_type": "markdown",
   "id": "b2158d38-9838-4625-878a-f52604b97ac8",
   "metadata": {},
   "source": [
    "# Load data 2"
   ]
  },
  {
   "cell_type": "code",
   "execution_count": 12,
   "id": "c3a9a0ed-50b5-4d1b-bc3e-b844228a0783",
   "metadata": {},
   "outputs": [],
   "source": [
    "datasets = ['Zhuang-ABCA-1','Zhuang-ABCA-2','Zhuang-ABCA-3','Zhuang-ABCA-4']\n",
    "\n",
    "metadata = {}\n",
    "for d in datasets :\n",
    "    metadata[d] = manifest['file_listing'][d]['metadata']"
   ]
  },
  {
   "cell_type": "code",
   "execution_count": 13,
   "id": "52cb0a9a-b9d4-401e-b99d-fa3e2f8e60c1",
   "metadata": {
    "scrolled": true
   },
   "outputs": [
    {
     "name": "stdout",
     "output_type": "stream",
     "text": [
      "Zhuang-ABCA-1 : Number of cells =  2846908 ,  Number of sections = 147\n",
      "Zhuang-ABCA-2 : Number of cells =  1227408 ,  Number of sections = 66\n",
      "Zhuang-ABCA-3 : Number of cells =  1585843 ,  Number of sections = 23\n",
      "Zhuang-ABCA-4 : Number of cells =  162578 ,  Number of sections = 3\n"
     ]
    }
   ],
   "source": [
    "cell = {}\n",
    "\n",
    "for d in datasets :\n",
    "    \n",
    "    rpath = metadata[d]['cell_metadata']['files']['csv']['relative_path']\n",
    "    file = os.path.join( download_base, rpath)\n",
    "    cell[d] = pd.read_csv(file, dtype={\"cell_label\":str})\n",
    "    cell[d].set_index('cell_label',inplace=True)\n",
    "    \n",
    "    sdf = cell[d].groupby('brain_section_label')\n",
    "    \n",
    "    print(d,\":\",\"Number of cells = \", len(cell[d]), \", \", \"Number of sections =\", len(sdf))"
   ]
  },
  {
   "cell_type": "markdown",
   "id": "a725547e-96de-483a-a6f4-8039cd6bb204",
   "metadata": {},
   "source": [
    "### Cluster annotation\n",
    "\n",
    "Read in the pivot table from the \"cluster annotation tutorial\" to associate each cell with terms at each cell type classification level and the corresponding color."
   ]
  },
  {
   "cell_type": "code",
   "execution_count": 14,
   "id": "c876a57a-4038-4c0a-b76f-8d3f7ac7ac14",
   "metadata": {},
   "outputs": [],
   "source": [
    "taxonomy_metadata = manifest['file_listing']['WMB-taxonomy']['metadata']\n",
    "\n",
    "rpath = taxonomy_metadata['cluster_to_cluster_annotation_membership_pivoted']['files']['csv']['relative_path']\n",
    "file = os.path.join( download_base, rpath)\n",
    "cluster_details = pd.read_csv(file,keep_default_na=False)\n",
    "cluster_details.set_index('cluster_alias', inplace=True)\n",
    "\n",
    "rpath = taxonomy_metadata['cluster_to_cluster_annotation_membership_color']['files']['csv']['relative_path']\n",
    "file = os.path.join( download_base, rpath)\n",
    "cluster_colors = pd.read_csv(file)\n",
    "cluster_colors.set_index('cluster_alias', inplace=True)"
   ]
  },
  {
   "cell_type": "code",
   "execution_count": 15,
   "id": "90064ecc-7b78-46b8-88ea-4ba6be21a30b",
   "metadata": {},
   "outputs": [],
   "source": [
    "cell_extended = {}\n",
    "\n",
    "for d in datasets :\n",
    "    cell_extended[d] = cell[d].join(cluster_details,on='cluster_alias')\n",
    "    cell_extended[d] = cell_extended[d].join(cluster_colors,on='cluster_alias')"
   ]
  },
  {
   "cell_type": "markdown",
   "id": "760b4500-b4ab-488a-8574-4f229da34ccd",
   "metadata": {},
   "source": [
    "For convenience, we can cache this view for later reuse."
   ]
  },
  {
   "cell_type": "markdown",
   "id": "4dd73ed2-3e8e-47cc-ba27-be8d1d81e33e",
   "metadata": {},
   "source": [
    "### Gene panel\n",
    "\n",
    "All 4 datasets shares the same 1122 gene panel selected to enable faciliate the mapping to transcriptomically defined cell types taxonomies. Each gene is uniquely identifier by an Ensembl ID. It is best practice to gene identifier to for tracking and data interchange as gene symbols are not unique and can change over time.\n",
    "\n",
    "Each row of the gene dataframe has Ensembl gene identifier, a gene symbol and name."
   ]
  },
  {
   "cell_type": "code",
   "execution_count": 16,
   "id": "f0bc8e10-01b4-4bb8-9c52-eb5e404c14b4",
   "metadata": {},
   "outputs": [
    {
     "name": "stdout",
     "output_type": "stream",
     "text": [
      "Number of genes =  1122\n"
     ]
    }
   ],
   "source": [
    "rpath = metadata[datasets[0]]['gene']['files']['csv']['relative_path']\n",
    "file = os.path.join( download_base, rpath)\n",
    "gene = pd.read_csv(file)\n",
    "gene.set_index('gene_identifier',inplace=True)\n",
    "print(\"Number of genes = \", len(gene))\n"
   ]
  },
  {
   "cell_type": "code",
   "execution_count": 17,
   "id": "a4f43925-240d-4c5b-91ab-d3691ef6301e",
   "metadata": {},
   "outputs": [],
   "source": [
    "expression_matrices = {}\n",
    "\n",
    "for d in datasets :\n",
    "    expression_matrices[d] = manifest['file_listing'][d]['expression_matrices']"
   ]
  },
  {
   "cell_type": "code",
   "execution_count": 18,
   "id": "1001e7ab-3b68-44fd-a523-db908a6dfe42",
   "metadata": {},
   "outputs": [],
   "source": [
    "\n",
    "gene_filtered  = pd.read_csv(Path(output_folder_calculations, \"selected_genes_MERFISH.csv\"))\n",
    "selected_genes = np.sort(gene_filtered[\"gene_symbol\"].values)\n"
   ]
  },
  {
   "cell_type": "code",
   "execution_count": 19,
   "id": "3b9a0912-874e-4c01-beb8-2d2687e3253a",
   "metadata": {},
   "outputs": [
    {
     "name": "stdout",
     "output_type": "stream",
     "text": [
      "Number of genes =  1122\n"
     ]
    },
    {
     "data": {
      "text/plain": [
       "array(['Htr1a', 'Htr1b', 'Htr1d', 'Htr1f', 'Htr2a', 'Htr2c', 'Htr3a',\n",
       "       'Htr4', 'Htr7'], dtype=object)"
      ]
     },
     "execution_count": 19,
     "metadata": {},
     "output_type": "execute_result"
    }
   ],
   "source": [
    "rpath = metadata[datasets[0]]['gene']['files']['csv']['relative_path'] # first dataset is big\n",
    "file = os.path.join( download_base, rpath)\n",
    "gene = pd.read_csv(file)\n",
    "gene.set_index('gene_identifier',inplace=True)\n",
    "print(\"Number of genes = \", len(gene))\n",
    "\n",
    "expression_matrices = {}\n",
    "\n",
    "for d in datasets :\n",
    "    expression_matrices[d] = manifest['file_listing'][d]['expression_matrices']\n",
    "\n",
    "gene_filtered  = pd.read_csv(Path(output_folder_calculations, \"selected_genes_MERFISH.csv\")).set_index(\"gene_identifier\")\n",
    "selected_genes = np.sort(gene_filtered[\"gene_symbol\"].values)\n",
    "selected_genes "
   ]
  },
  {
   "cell_type": "code",
   "execution_count": 20,
   "id": "5cdc5219-3c21-4bc1-958a-b51235dbefc6",
   "metadata": {},
   "outputs": [
    {
     "data": {
      "application/vnd.jupyter.widget-view+json": {
       "model_id": "326566f3b8004fd48d9f0723bd0b09ac",
       "version_major": 2,
       "version_minor": 0
      },
      "text/plain": [
       "  0%|          | 0/4 [00:00<?, ?it/s]"
      ]
     },
     "metadata": {},
     "output_type": "display_data"
    },
    {
     "name": "stdout",
     "output_type": "stream",
     "text": [
      "Zhuang-ABCA-1 - time taken:  59.211016852\n",
      "Zhuang-ABCA-2 - time taken:  20.015942268000003\n",
      "Zhuang-ABCA-3 - time taken:  22.175013174000014\n",
      "Zhuang-ABCA-4 - time taken:  1.9722816220000254\n"
     ]
    }
   ],
   "source": [
    "cell_expression = {}\n",
    "cell_expression_bool = {}\n",
    "\n",
    "for d in tqdm(datasets):\n",
    "    \n",
    "    expression_matrices[d]\n",
    "    rpath = expression_matrices[d][d]['log2']['files']['h5ad']['relative_path']\n",
    "    file = os.path.join( download_base, rpath)\n",
    "    \n",
    "    adata = anndata.read_h5ad(file,backed='r')\n",
    "    \n",
    "    start = time.process_time()\n",
    "    gdata = adata[:,gene_filtered.index].to_df()\n",
    "    gdata.columns = gene_filtered.gene_symbol\n",
    "    cell_expression[d] = cell_extended[d].join( gdata )\n",
    "    cell_expression_bool[d] = cell_extended[d].join( gdata.astype(\"bool\") )\n",
    "    \n",
    "    print(d,\"-\",\"time taken: \", time.process_time() - start)\n",
    "    \n",
    "    adata.file.close()\n",
    "    del adata\n"
   ]
  },
  {
   "cell_type": "markdown",
   "id": "ba21479d-20ba-4293-92cd-6509764de403",
   "metadata": {
    "editable": true,
    "slideshow": {
     "slide_type": ""
    },
    "tags": []
   },
   "source": [
    "### CCF registration and parcellation annotation\n",
    "\n",
    "Each brain specimen has been registered to Allen CCFv3 atlas, resulting in an x, y, z coordinates and parcellation_index for each cell. "
   ]
  },
  {
   "cell_type": "code",
   "execution_count": 21,
   "id": "e440b145-4fe2-4114-a662-a7f240928f4b",
   "metadata": {},
   "outputs": [
    {
     "data": {
      "application/vnd.jupyter.widget-view+json": {
       "model_id": "76adaa7b90144383bcdd0e0fe593eee9",
       "version_major": 2,
       "version_minor": 0
      },
      "text/plain": [
       "  0%|          | 0/4 [00:00<?, ?it/s]"
      ]
     },
     "metadata": {},
     "output_type": "display_data"
    }
   ],
   "source": [
    "ccf_coordinates = {}\n",
    "\n",
    "for d in tqdm(datasets):\n",
    "    \n",
    "    rpath = manifest['file_listing'][d+'-CCF']['metadata']['ccf_coordinates']['files']['csv']['relative_path']\n",
    "    file = os.path.join( download_base, rpath)\n",
    "    ccf_coordinates[d] = pd.read_csv(file)\n",
    "    ccf_coordinates[d].set_index('cell_label',inplace=True)\n",
    "    ccf_coordinates[d].rename(columns={'x':'x_ccf','y':'y_ccf','z':'z_ccf'},inplace=True)\n",
    "    \n",
    "    cell_expression[d] = cell_expression[d].join(ccf_coordinates[d],how='inner')\n",
    "    cell_expression_bool[d] = cell_expression_bool[d].join(ccf_coordinates[d],how='inner')"
   ]
  },
  {
   "cell_type": "code",
   "execution_count": 22,
   "id": "268b3e6d-6b6e-4e62-909c-610b2f80fd9f",
   "metadata": {},
   "outputs": [],
   "source": [
    "metadata = manifest['file_listing']['Allen-CCF-2020']['metadata']\n",
    "rpath = metadata['parcellation_to_parcellation_term_membership_acronym']['files']['csv']['relative_path']\n",
    "file = os.path.join( download_base, rpath)\n",
    "parcellation_annotation = pd.read_csv(file)\n",
    "parcellation_annotation.set_index('parcellation_index',inplace=True)\n",
    "parcellation_annotation.columns = ['parcellation_%s'% x for x in  parcellation_annotation.columns]\n",
    "\n",
    "rpath = metadata['parcellation_to_parcellation_term_membership_color']['files']['csv']['relative_path']\n",
    "file = os.path.join( download_base, rpath)\n",
    "parcellation_color = pd.read_csv(file)\n",
    "parcellation_color.set_index('parcellation_index',inplace=True)\n",
    "parcellation_color.columns = ['parcellation_%s'% x for x in  parcellation_color.columns]"
   ]
  },
  {
   "cell_type": "code",
   "execution_count": 23,
   "id": "e0c9adc1-d7cf-43cf-aeb7-42594806c67d",
   "metadata": {},
   "outputs": [],
   "source": [
    "for d in datasets :\n",
    "    cell_expression[d] = cell_expression[d].join(parcellation_annotation,on='parcellation_index')\n",
    "    cell_expression[d] = cell_expression[d].join(parcellation_color,on='parcellation_index')   \n",
    "    cell_expression_bool[d] = cell_expression_bool[d].join(parcellation_annotation,on='parcellation_index')\n",
    "    cell_expression_bool[d] = cell_expression_bool[d].join(parcellation_color,on='parcellation_index')   \n"
   ]
  },
  {
   "cell_type": "code",
   "execution_count": 6,
   "id": "a01bd695-3719-4a89-9d6e-bece3aff0d67",
   "metadata": {},
   "outputs": [
    {
     "ename": "ImportError",
     "evalue": "cannot import name 'WidgetBox' from 'bokeh.layouts' (/alzheimer/Roberto/Software/mambaforge/envs/synthetic_surprise/lib/python3.8/site-packages/bokeh/layouts.py)",
     "output_type": "error",
     "traceback": [
      "\u001b[0;31m---------------------------------------------------------------------------\u001b[0m",
      "\u001b[0;31mImportError\u001b[0m                               Traceback (most recent call last)",
      "Cell \u001b[0;32mIn[6], line 5\u001b[0m\n\u001b[1;32m      2\u001b[0m \u001b[38;5;28;01mimport\u001b[39;00m \u001b[38;5;21;01mholoviews\u001b[39;00m \u001b[38;5;28;01mas\u001b[39;00m \u001b[38;5;21;01mhv\u001b[39;00m\n\u001b[1;32m      3\u001b[0m \u001b[38;5;28;01mfrom\u001b[39;00m \u001b[38;5;21;01mholoviews\u001b[39;00m \u001b[38;5;28;01mimport\u001b[39;00m dim, opts\n\u001b[0;32m----> 5\u001b[0m \u001b[43mpn\u001b[49m\u001b[38;5;241;43m.\u001b[39;49m\u001b[43mextension\u001b[49m\u001b[43m(\u001b[49m\u001b[43m)\u001b[49m\n",
      "File \u001b[0;32m/alzheimer/Roberto/Software/mambaforge/envs/synthetic_surprise/lib/python3.8/site-packages/pyviz_comms/__init__.py:64\u001b[0m, in \u001b[0;36mextension.__new__\u001b[0;34m(cls, *args, **kwargs)\u001b[0m\n\u001b[1;32m     62\u001b[0m \u001b[38;5;28;01mexcept\u001b[39;00m \u001b[38;5;167;01mException\u001b[39;00m:\n\u001b[1;32m     63\u001b[0m     \u001b[38;5;28;01mpass\u001b[39;00m\n\u001b[0;32m---> 64\u001b[0m \u001b[38;5;28;01mreturn\u001b[39;00m \u001b[43mparam\u001b[49m\u001b[38;5;241;43m.\u001b[39;49m\u001b[43mParameterizedFunction\u001b[49m\u001b[38;5;241;43m.\u001b[39;49m\u001b[38;5;21;43m__new__\u001b[39;49m\u001b[43m(\u001b[49m\u001b[38;5;28;43mcls\u001b[39;49m\u001b[43m,\u001b[49m\u001b[43m \u001b[49m\u001b[38;5;241;43m*\u001b[39;49m\u001b[43margs\u001b[49m\u001b[43m,\u001b[49m\u001b[43m \u001b[49m\u001b[38;5;241;43m*\u001b[39;49m\u001b[38;5;241;43m*\u001b[39;49m\u001b[43mkwargs\u001b[49m\u001b[43m)\u001b[49m\n",
      "File \u001b[0;32m/alzheimer/Roberto/Software/mambaforge/envs/synthetic_surprise/lib/python3.8/site-packages/param/parameterized.py:3658\u001b[0m, in \u001b[0;36mParameterizedFunction.__new__\u001b[0;34m(class_, *args, **params)\u001b[0m\n\u001b[1;32m   3656\u001b[0m inst \u001b[38;5;241m=\u001b[39m class_\u001b[38;5;241m.\u001b[39minstance()\n\u001b[1;32m   3657\u001b[0m inst\u001b[38;5;241m.\u001b[39mparam\u001b[38;5;241m.\u001b[39m_set_name(class_\u001b[38;5;241m.\u001b[39m\u001b[38;5;18m__name__\u001b[39m)\n\u001b[0;32m-> 3658\u001b[0m \u001b[38;5;28;01mreturn\u001b[39;00m \u001b[43minst\u001b[49m\u001b[38;5;241;43m.\u001b[39;49m\u001b[38;5;21;43m__call__\u001b[39;49m\u001b[43m(\u001b[49m\u001b[38;5;241;43m*\u001b[39;49m\u001b[43margs\u001b[49m\u001b[43m,\u001b[49m\u001b[38;5;241;43m*\u001b[39;49m\u001b[38;5;241;43m*\u001b[39;49m\u001b[43mparams\u001b[49m\u001b[43m)\u001b[49m\n",
      "File \u001b[0;32m/alzheimer/Roberto/Software/mambaforge/envs/synthetic_surprise/lib/python3.8/site-packages/panel/config.py:755\u001b[0m, in \u001b[0;36mpanel_extension.__call__\u001b[0;34m(self, *args, **params)\u001b[0m\n\u001b[1;32m    753\u001b[0m \u001b[38;5;28;01mif\u001b[39;00m \u001b[38;5;124m'\u001b[39m\u001b[38;5;124mholoviews\u001b[39m\u001b[38;5;124m'\u001b[39m \u001b[38;5;129;01min\u001b[39;00m sys\u001b[38;5;241m.\u001b[39mmodules:\n\u001b[1;32m    754\u001b[0m     \u001b[38;5;28;01mimport\u001b[39;00m \u001b[38;5;21;01mholoviews\u001b[39;00m \u001b[38;5;28;01mas\u001b[39;00m \u001b[38;5;21;01mhv\u001b[39;00m\n\u001b[0;32m--> 755\u001b[0m     \u001b[38;5;28;01mimport\u001b[39;00m \u001b[38;5;21;01mholoviews\u001b[39;00m\u001b[38;5;21;01m.\u001b[39;00m\u001b[38;5;21;01mplotting\u001b[39;00m\u001b[38;5;21;01m.\u001b[39;00m\u001b[38;5;21;01mbokeh\u001b[39;00m  \u001b[38;5;66;03m# noqa\u001b[39;00m\n\u001b[1;32m    756\u001b[0m     loaded \u001b[38;5;241m=\u001b[39m loaded \u001b[38;5;129;01mor\u001b[39;00m \u001b[38;5;28mgetattr\u001b[39m(hv\u001b[38;5;241m.\u001b[39mextension, \u001b[38;5;124m'\u001b[39m\u001b[38;5;124m_loaded\u001b[39m\u001b[38;5;124m'\u001b[39m, \u001b[38;5;28;01mFalse\u001b[39;00m)\n\u001b[1;32m    758\u001b[0m     \u001b[38;5;28;01mif\u001b[39;00m hv\u001b[38;5;241m.\u001b[39mStore\u001b[38;5;241m.\u001b[39mcurrent_backend \u001b[38;5;129;01min\u001b[39;00m hv\u001b[38;5;241m.\u001b[39mStore\u001b[38;5;241m.\u001b[39mrenderers:\n",
      "File \u001b[0;32m/alzheimer/Roberto/Software/mambaforge/envs/synthetic_surprise/lib/python3.8/site-packages/holoviews/plotting/bokeh/__init__.py:20\u001b[0m\n\u001b[1;32m     10\u001b[0m \u001b[38;5;28;01mfrom\u001b[39;00m \u001b[38;5;21;01m.\u001b[39;00m\u001b[38;5;21;01m.\u001b[39;00m\u001b[38;5;21;01m.\u001b[39;00m\u001b[38;5;21;01melement\u001b[39;00m \u001b[38;5;28;01mimport\u001b[39;00m (Curve, Points, Scatter, Image, Raster, Path,\n\u001b[1;32m     11\u001b[0m                         RGB, Histogram, Spread, HeatMap, Contours, Bars,\n\u001b[1;32m     12\u001b[0m                         Box, Bounds, Ellipse, Polygons, BoxWhisker, Arrow,\n\u001b[0;32m   (...)\u001b[0m\n\u001b[1;32m     16\u001b[0m                         TriMesh, Violin, Chord, Div, HexTiles, Labels, Sankey,\n\u001b[1;32m     17\u001b[0m                         Tiles, Segments, Slope, Rectangles)\n\u001b[1;32m     18\u001b[0m \u001b[38;5;28;01mfrom\u001b[39;00m \u001b[38;5;21;01m.\u001b[39;00m\u001b[38;5;21;01m.\u001b[39;00m\u001b[38;5;21;01m.\u001b[39;00m\u001b[38;5;21;01mcore\u001b[39;00m\u001b[38;5;21;01m.\u001b[39;00m\u001b[38;5;21;01moptions\u001b[39;00m \u001b[38;5;28;01mimport\u001b[39;00m Options, Cycle, Palette\n\u001b[0;32m---> 20\u001b[0m \u001b[38;5;28;01mfrom\u001b[39;00m \u001b[38;5;21;01m.\u001b[39;00m\u001b[38;5;21;01mannotation\u001b[39;00m \u001b[38;5;28;01mimport\u001b[39;00m (\n\u001b[1;32m     21\u001b[0m     TextPlot, LineAnnotationPlot, BoxAnnotationPlot, SplinePlot, ArrowPlot,\n\u001b[1;32m     22\u001b[0m     DivPlot, LabelsPlot, SlopePlot\n\u001b[1;32m     23\u001b[0m )\n\u001b[1;32m     24\u001b[0m \u001b[38;5;28;01mfrom\u001b[39;00m \u001b[38;5;21;01m.\u001b[39;00m\u001b[38;5;21;01m.\u001b[39;00m\u001b[38;5;21;01mplot\u001b[39;00m \u001b[38;5;28;01mimport\u001b[39;00m PlotSelector\n\u001b[1;32m     25\u001b[0m \u001b[38;5;28;01mfrom\u001b[39;00m \u001b[38;5;21;01m.\u001b[39;00m\u001b[38;5;21;01m.\u001b[39;00m\u001b[38;5;21;01mutil\u001b[39;00m \u001b[38;5;28;01mimport\u001b[39;00m fire\n",
      "File \u001b[0;32m/alzheimer/Roberto/Software/mambaforge/envs/synthetic_surprise/lib/python3.8/site-packages/holoviews/plotting/bokeh/annotation.py:16\u001b[0m\n\u001b[1;32m     14\u001b[0m \u001b[38;5;28;01mfrom\u001b[39;00m \u001b[38;5;21;01m.\u001b[39;00m\u001b[38;5;21;01m.\u001b[39;00m\u001b[38;5;21;01m.\u001b[39;00m\u001b[38;5;21;01melement\u001b[39;00m \u001b[38;5;28;01mimport\u001b[39;00m HLine, VLine, VSpan\n\u001b[1;32m     15\u001b[0m \u001b[38;5;28;01mfrom\u001b[39;00m \u001b[38;5;21;01m.\u001b[39;00m\u001b[38;5;21;01m.\u001b[39;00m\u001b[38;5;21;01mplot\u001b[39;00m \u001b[38;5;28;01mimport\u001b[39;00m GenericElementPlot\n\u001b[0;32m---> 16\u001b[0m \u001b[38;5;28;01mfrom\u001b[39;00m \u001b[38;5;21;01m.\u001b[39;00m\u001b[38;5;21;01melement\u001b[39;00m \u001b[38;5;28;01mimport\u001b[39;00m AnnotationPlot, ElementPlot, CompositeElementPlot, ColorbarPlot\n\u001b[1;32m     17\u001b[0m \u001b[38;5;28;01mfrom\u001b[39;00m \u001b[38;5;21;01m.\u001b[39;00m\u001b[38;5;21;01mselection\u001b[39;00m \u001b[38;5;28;01mimport\u001b[39;00m BokehOverlaySelectionDisplay\n\u001b[1;32m     18\u001b[0m \u001b[38;5;28;01mfrom\u001b[39;00m \u001b[38;5;21;01m.\u001b[39;00m\u001b[38;5;21;01mstyles\u001b[39;00m \u001b[38;5;28;01mimport\u001b[39;00m base_properties, fill_properties, line_properties, text_properties\n",
      "File \u001b[0;32m/alzheimer/Roberto/Software/mambaforge/envs/synthetic_surprise/lib/python3.8/site-packages/holoviews/plotting/bokeh/element.py:45\u001b[0m\n\u001b[1;32m     41\u001b[0m \u001b[38;5;28;01mfrom\u001b[39;00m \u001b[38;5;21;01m.\u001b[39;00m\u001b[38;5;21;01m.\u001b[39;00m\u001b[38;5;21;01mplot\u001b[39;00m \u001b[38;5;28;01mimport\u001b[39;00m GenericElementPlot, GenericOverlayPlot\n\u001b[1;32m     42\u001b[0m \u001b[38;5;28;01mfrom\u001b[39;00m \u001b[38;5;21;01m.\u001b[39;00m\u001b[38;5;21;01m.\u001b[39;00m\u001b[38;5;21;01mutil\u001b[39;00m \u001b[38;5;28;01mimport\u001b[39;00m (\n\u001b[1;32m     43\u001b[0m     dim_axis_label, process_cmap, color_intervals, dim_range_key\n\u001b[1;32m     44\u001b[0m )\n\u001b[0;32m---> 45\u001b[0m \u001b[38;5;28;01mfrom\u001b[39;00m \u001b[38;5;21;01m.\u001b[39;00m\u001b[38;5;21;01mplot\u001b[39;00m \u001b[38;5;28;01mimport\u001b[39;00m BokehPlot\n\u001b[1;32m     46\u001b[0m \u001b[38;5;28;01mfrom\u001b[39;00m \u001b[38;5;21;01m.\u001b[39;00m\u001b[38;5;21;01mstyles\u001b[39;00m \u001b[38;5;28;01mimport\u001b[39;00m (\n\u001b[1;32m     47\u001b[0m     base_properties, legend_dimensions, line_properties, mpl_to_bokeh,\n\u001b[1;32m     48\u001b[0m     property_prefixes, rgba_tuple, text_properties, validate\n\u001b[1;32m     49\u001b[0m )\n\u001b[1;32m     50\u001b[0m \u001b[38;5;28;01mfrom\u001b[39;00m \u001b[38;5;21;01m.\u001b[39;00m\u001b[38;5;21;01mtabular\u001b[39;00m \u001b[38;5;28;01mimport\u001b[39;00m TablePlot\n",
      "File \u001b[0;32m/alzheimer/Roberto/Software/mambaforge/envs/synthetic_surprise/lib/python3.8/site-packages/holoviews/plotting/bokeh/plot.py:31\u001b[0m\n\u001b[1;32m     25\u001b[0m \u001b[38;5;28;01mfrom\u001b[39;00m \u001b[38;5;21;01m.\u001b[39;00m\u001b[38;5;21;01m.\u001b[39;00m\u001b[38;5;21;01mplot\u001b[39;00m \u001b[38;5;28;01mimport\u001b[39;00m (\n\u001b[1;32m     26\u001b[0m     DimensionedPlot, GenericCompositePlot, GenericLayoutPlot,\n\u001b[1;32m     27\u001b[0m     GenericElementPlot, GenericOverlayPlot, GenericAdjointLayoutPlot,\n\u001b[1;32m     28\u001b[0m     CallbackPlot\n\u001b[1;32m     29\u001b[0m )\n\u001b[1;32m     30\u001b[0m \u001b[38;5;28;01mfrom\u001b[39;00m \u001b[38;5;21;01m.\u001b[39;00m\u001b[38;5;21;01m.\u001b[39;00m\u001b[38;5;21;01mutil\u001b[39;00m \u001b[38;5;28;01mimport\u001b[39;00m attach_streams, displayable, collate\n\u001b[0;32m---> 31\u001b[0m \u001b[38;5;28;01mfrom\u001b[39;00m \u001b[38;5;21;01m.\u001b[39;00m\u001b[38;5;21;01mlinks\u001b[39;00m \u001b[38;5;28;01mimport\u001b[39;00m LinkCallback\n\u001b[1;32m     32\u001b[0m \u001b[38;5;28;01mfrom\u001b[39;00m \u001b[38;5;21;01m.\u001b[39;00m\u001b[38;5;21;01mutil\u001b[39;00m \u001b[38;5;28;01mimport\u001b[39;00m (\n\u001b[1;32m     33\u001b[0m     bokeh3, filter_toolboxes, make_axis, sync_legends, update_shared_sources, empty_plot,\n\u001b[1;32m     34\u001b[0m     decode_bytes, theme_attr_json, cds_column_replace, get_default, merge_tools, select_legends\n\u001b[1;32m     35\u001b[0m )\n\u001b[1;32m     37\u001b[0m \u001b[38;5;28;01mif\u001b[39;00m bokeh3:\n",
      "File \u001b[0;32m/alzheimer/Roberto/Software/mambaforge/envs/synthetic_surprise/lib/python3.8/site-packages/holoviews/plotting/bokeh/links.py:6\u001b[0m\n\u001b[1;32m      3\u001b[0m \u001b[38;5;28;01mfrom\u001b[39;00m \u001b[38;5;21;01mbokeh\u001b[39;00m\u001b[38;5;21;01m.\u001b[39;00m\u001b[38;5;21;01mmodels\u001b[39;00m \u001b[38;5;28;01mimport\u001b[39;00m CustomJS\n\u001b[1;32m      4\u001b[0m \u001b[38;5;28;01mfrom\u001b[39;00m \u001b[38;5;21;01mbokeh\u001b[39;00m\u001b[38;5;21;01m.\u001b[39;00m\u001b[38;5;21;01mmodels\u001b[39;00m\u001b[38;5;21;01m.\u001b[39;00m\u001b[38;5;21;01mtools\u001b[39;00m \u001b[38;5;28;01mimport\u001b[39;00m RangeTool\n\u001b[0;32m----> 6\u001b[0m \u001b[38;5;28;01mfrom\u001b[39;00m \u001b[38;5;21;01m.\u001b[39;00m\u001b[38;5;21;01mutil\u001b[39;00m \u001b[38;5;28;01mimport\u001b[39;00m bokeh3\n\u001b[1;32m      7\u001b[0m \u001b[38;5;28;01mfrom\u001b[39;00m \u001b[38;5;21;01m.\u001b[39;00m\u001b[38;5;21;01m.\u001b[39;00m\u001b[38;5;21;01m.\u001b[39;00m\u001b[38;5;21;01mcore\u001b[39;00m\u001b[38;5;21;01m.\u001b[39;00m\u001b[38;5;21;01mutil\u001b[39;00m \u001b[38;5;28;01mimport\u001b[39;00m isscalar\n\u001b[1;32m      8\u001b[0m \u001b[38;5;28;01mfrom\u001b[39;00m \u001b[38;5;21;01m.\u001b[39;00m\u001b[38;5;21;01m.\u001b[39;00m\u001b[38;5;21;01mlinks\u001b[39;00m \u001b[38;5;28;01mimport\u001b[39;00m (\n\u001b[1;32m      9\u001b[0m     Link, RectanglesTableLink, DataLink, RangeToolLink,\n\u001b[1;32m     10\u001b[0m     SelectionLink, VertexTableLink\n\u001b[1;32m     11\u001b[0m )\n",
      "File \u001b[0;32m/alzheimer/Roberto/Software/mambaforge/envs/synthetic_surprise/lib/python3.8/site-packages/holoviews/plotting/bokeh/util.py:59\u001b[0m\n\u001b[1;32m     56\u001b[0m     \u001b[38;5;28;01mclass\u001b[39;00m \u001b[38;5;21;01mWidgetBox\u001b[39;00m: \u001b[38;5;28;01mpass\u001b[39;00m  \u001b[38;5;66;03m# Does not exist in Bokeh 3\u001b[39;00m\n\u001b[1;32m     58\u001b[0m \u001b[38;5;28;01melse\u001b[39;00m:\n\u001b[0;32m---> 59\u001b[0m     \u001b[38;5;28;01mfrom\u001b[39;00m \u001b[38;5;21;01mbokeh\u001b[39;00m\u001b[38;5;21;01m.\u001b[39;00m\u001b[38;5;21;01mlayouts\u001b[39;00m \u001b[38;5;28;01mimport\u001b[39;00m WidgetBox\n\u001b[1;32m     60\u001b[0m     \u001b[38;5;28;01mfrom\u001b[39;00m \u001b[38;5;21;01mbokeh\u001b[39;00m\u001b[38;5;21;01m.\u001b[39;00m\u001b[38;5;21;01mmodels\u001b[39;00m\u001b[38;5;21;01m.\u001b[39;00m\u001b[38;5;21;01mformatters\u001b[39;00m \u001b[38;5;28;01mimport\u001b[39;00m FuncTickFormatter \u001b[38;5;28;01mas\u001b[39;00m CustomJSTickFormatter\n\u001b[1;32m     61\u001b[0m     \u001b[38;5;28;01mfrom\u001b[39;00m \u001b[38;5;21;01mbokeh\u001b[39;00m\u001b[38;5;21;01m.\u001b[39;00m\u001b[38;5;21;01mmodels\u001b[39;00m\u001b[38;5;21;01m.\u001b[39;00m\u001b[38;5;21;01mwidgets\u001b[39;00m \u001b[38;5;28;01mimport\u001b[39;00m Tabs\n",
      "\u001b[0;31mImportError\u001b[0m: cannot import name 'WidgetBox' from 'bokeh.layouts' (/alzheimer/Roberto/Software/mambaforge/envs/synthetic_surprise/lib/python3.8/site-packages/bokeh/layouts.py)"
     ]
    }
   ],
   "source": [
    "import panel as pn\n",
    "import holoviews as hv\n",
    "from holoviews import dim, opts\n",
    "\n",
    "pn.extension()"
   ]
  },
  {
   "cell_type": "code",
   "execution_count": null,
   "id": "472cce17-89bb-4acd-9aad-a338630a55a7",
   "metadata": {},
   "outputs": [],
   "source": [
    "total_bytes = cell_expression['Zhuang-ABCA-1'][['brain_section_label','parcellation_structure', 'parcellation_substructure','parcellation_division_color','parcellation_division' , \"parcellation_structure_color\", \"Htr2a\"]].memory_usage(index=True).sum()\n",
    "size_in_mb = total_bytes / (1024 ** 2)\n",
    "size_in_mb"
   ]
  },
  {
   "cell_type": "code",
   "execution_count": null,
   "id": "0a00b0e9-a534-4669-8e3f-e8e9a2eb029e",
   "metadata": {},
   "outputs": [],
   "source": [
    "sub_cell_expression = {}\n",
    "for dataset in tqdm(cell_expression.keys()):\n",
    "    data_merfish_cor =  cell_expression[dataset][[\"class\", \"subclass\",'x', 'y', 'brain_section_label' , \"parcellation_structure_color\", 'Htr7', 'Htr1f',\n",
    "       'Htr1d', 'Htr4', 'Htr1b', 'Htr2a', 'Htr1a', 'Htr2c', 'Htr3a', 'parcellation_division', 'parcellation_category','parcellation_structure', 'parcellation_substructure', 'parcellation_division_color']].sort_values(by='brain_section_label').copy()\n",
    "    sub_cell_expression[dataset]  = data_merfish_cor[data_merfish_cor['parcellation_division'] != \"unassigned\"]"
   ]
  },
  {
   "cell_type": "code",
   "execution_count": null,
   "id": "47fddd1e-678b-4f2c-97e0-7b17bf2e5517",
   "metadata": {},
   "outputs": [],
   "source": [
    "selected_genes"
   ]
  },
  {
   "cell_type": "code",
   "execution_count": null,
   "id": "262e2814-6e31-4110-8077-127c427938eb",
   "metadata": {
    "editable": true,
    "slideshow": {
     "slide_type": ""
    },
    "tags": []
   },
   "outputs": [],
   "source": [
    "# Create a sorted list of unique section names\n",
    "\n",
    "dataset_changed = pn.widgets.Checkbox(name='Dataset Changed', value=False)\n",
    "\n",
    "dataset_selector = pn.widgets.Select(name='Dataset Selector', options=datasets, value=datasets[0])\n",
    "\n",
    "dataset = datasets[0]\n",
    "\n",
    "section_names = sorted(sub_cell_expression[dataset]['brain_section_label'].unique())\n",
    "\n",
    "section_name_display = pn.pane.HTML()\n",
    "\n",
    "# Create a slider for selecting brain sections based on the length of the section_names list\n",
    "slider = pn.widgets.IntSlider(name='Brain Section Index', start=0, end=len(section_names) - 1, value=0)\n",
    "\n",
    "gene_selector = pn.widgets.Select(name='Gene Selector', options=selected_genes.tolist(), value=selected_genes[0])\n",
    "\n",
    "class_selector = pn.widgets.MultiSelect(name='Class Selector', options=sorted(sub_cell_expression[dataset]['class'].unique()), value=sorted(sub_cell_expression[dataset]['class'].unique()))\n",
    "subclass_selector = pn.widgets.MultiSelect(name='Subclass Selector', options=sorted(sub_cell_expression[dataset]['subclass'].unique()), value=sorted(sub_cell_expression[dataset]['subclass'].unique()))\n",
    "                 \n",
    "desired_height = 200  # Height in pixels\n",
    "\n",
    "class_selector.height = desired_height\n",
    "\n",
    "subclass_selector.height = desired_height\n",
    "\n",
    "update_button = pn.widgets.Button(name='Update Plots', button_type='primary')\n",
    "\n",
    "\n",
    "@pn.depends(dataset_selector.param.value, class_selector.param.value, watch=True)\n",
    "def update_subclass_options(dataset, selected_classes):\n",
    "    current_data = sub_cell_expression[dataset]\n",
    "    subclass_options = sorted(current_data[current_data['class'].isin(selected_classes)]['subclass'].unique())\n",
    "    subclass_selector.options = list(subclass_options)\n",
    "    subclass_selector.value = list(subclass_options)\n",
    "    \n",
    "@pn.depends(dataset_selector.param.value, watch=True)\n",
    "def on_dataset_change(selected_dataset):\n",
    "    #print(f\"Dataset changed to: {selected_dataset}\") # Debugging print\n",
    "    section_names = get_section_names(selected_dataset)\n",
    "    slider.end = len(section_names) - 1\n",
    "    #print(f\"Slider end set to: {slider.end}\") # Debugging print\n",
    "    slider.param.set_param(value=0)\n",
    "    #print(f\"Slider value set to: {slider.value}\") # Debugging print\n",
    "    dataset_changed.value = True\n",
    "\n",
    "\n",
    "def get_section_names(dataset):\n",
    "    return sorted(sub_cell_expression[dataset]['brain_section_label'].unique())\n",
    "\n",
    "@pn.depends(dataset_selector.param.value, watch=True)\n",
    "def update_slider_range(selected_dataset):\n",
    "    section_names = get_section_names(selected_dataset)\n",
    "    slider.end = len(section_names) - 1\n",
    "\n",
    "\n",
    "@pn.depends(slider.param.value, dataset_selector.param.value, watch=True)\n",
    "def update_section_name_display(section_index, dataset=dataset_selector.value):\n",
    "    section_names = get_section_names(dataset)\n",
    "    brain_section = section_names[section_index]\n",
    "    section_name_display.object = f\"<b>Brain Section:</b> {brain_section}\"\n",
    "\n",
    "\n",
    "@pn.depends(slider.param.value_throttled, gene_selector.param.value, dataset_selector.param.value, update_button.param.clicks)\n",
    "def plot_expr_across_slices(section_index, gene, dataset, click):\n",
    "    sub_merfish_for_plot = sub_cell_expression[dataset]\n",
    "\n",
    "    filtered_data = sub_merfish_for_plot[sub_merfish_for_plot['class'].isin(class_selector.value) & sub_merfish_for_plot['subclass'].isin(subclass_selector.value)]\n",
    "\n",
    "    curve_data = filtered_data[filtered_data[gene] > 0].groupby('brain_section_label')[gene].mean()\n",
    "    curve_data.rename(f\"Expression {gene}\", inplace=True)\n",
    "    curve = hv.Curve(curve_data, label=f'Log(CPM) {gene}').opts(xaxis=None,  height=140, responsive=True, active_tools=[])\n",
    "\n",
    "    grouped_data = filtered_data.groupby('brain_section_label')[gene].apply(\n",
    "        percentage_above_threshold_MER).reset_index()\n",
    "    grouped_data.rename(columns={gene: f\"% expressing {gene}\"}, inplace=True)\n",
    "    percentage_curve = hv.Curve(grouped_data, 'brain_section_label', f\"% expressing {gene}\", label=f'Percentage expressing {gene}').opts(xaxis=None,\n",
    "                                                                                                   height=140,\n",
    "                                                                                                   responsive=True,\n",
    "                                                                                                   active_tools=[])\n",
    "\n",
    "    vline = hv.VLine(section_index).opts(line_color='red', line_width=2)\n",
    "    percentage_of_all_cells = ((filtered_data.groupby('brain_section_label').size()/sub_merfish_for_plot.groupby('brain_section_label').size())*100).fillna(0)\n",
    "    percentage_of_all_cells.name = \"% of all cells\"\n",
    "    ratio_cells = hv.Curve( percentage_of_all_cells, 'brain_section_label', \"% of all cells\",  label='Percentage of all cells').opts(xaxis=None,\n",
    "                                                                                                   height=100,\n",
    "                                                                                                   responsive=True,\n",
    "                                                                                                   active_tools=[])\n",
    "    \n",
    "\n",
    "    return hv.Layout([(ratio_cells * vline), (curve * vline), (percentage_curve * vline)]).cols(1)\n",
    "\n",
    "\n",
    "    \n",
    "@pn.depends(slider.param.value_throttled, gene_selector.param.value, dataset_selector.param.value, update_button.param.clicks)\n",
    "def plot_section(section_index, gene, dataset, click):\n",
    "    sub_merfish_for_plot = sub_cell_expression[dataset]\n",
    "    filtered_data = sub_merfish_for_plot[sub_merfish_for_plot['class'].isin(class_selector.value) & sub_merfish_for_plot['subclass'].isin(subclass_selector.value)]\n",
    "\n",
    "    section_names = get_section_names(dataset)  \n",
    "    # Check if the dataset has changed and reset the flag\n",
    "    \n",
    "    if dataset_changed.value:\n",
    "        section_index = 0\n",
    "        dataset_changed.value = False\n",
    "\n",
    "    if section_index >= len(section_names):\n",
    "        section_index = len(section_names) - 1  # Set to the last valid index\n",
    "        \n",
    "    brain_section = section_names[section_index]\n",
    "    section = filtered_data[filtered_data['brain_section_label'] == brain_section]\n",
    "    section = section[section['parcellation_division'] != \"unassigned\"]\n",
    "\n",
    "    plot1 = hv.Points(data=section, kdims=['x', 'y' ], vdims=[gene,'parcellation_structure', 'parcellation_substructure']).opts(width=550,colorbar=True, cmap='rocket_r', size=2, color=gene)\n",
    "    plot2 = hv.NdOverlay({division: hv.Points(section[section['parcellation_division'] == division], ['x', 'y'], ['parcellation_division_color','parcellation_structure', 'parcellation_substructure']).opts(color='parcellation_division_color', size=2) for division in section[section['parcellation_category'] == \"grey\"]['parcellation_division'].unique()}, kdims='parcellation_division').opts(legend_position='right', width=650,show_legend=True)\n",
    "\n",
    "    common_opts = opts.Points(height=500,  invert_yaxis=True, xaxis=None, yaxis=None, show_grid=False, active_tools=[], tools=[\"hover\"])\n",
    "\n",
    "    return (plot1 + plot2).opts(common_opts)\n",
    "\n",
    "@pn.depends(slider.param.value_throttled, gene_selector.param.value, dataset_selector.param.value, update_button.param.clicks)\n",
    "def plot_bar(section_index, gene, dataset, click):\n",
    "    sub_merfish_for_plot = sub_cell_expression[dataset]\n",
    "    filtered_data =  sub_cell_expression[dataset][ sub_cell_expression[dataset]['class'].isin(class_selector.value) &  sub_cell_expression[dataset]['subclass'].isin(subclass_selector.value)]\n",
    "\n",
    "    section_names = get_section_names(dataset)\n",
    "    \n",
    "    if dataset_changed.value:\n",
    "        section_index = 0\n",
    "        dataset_changed.value = False\n",
    "        \n",
    "    brain_section = section_names[section_index]\n",
    "    section = filtered_data[filtered_data['brain_section_label'] == brain_section]\n",
    "    section = section[section['parcellation_division'] != \"unassigned\"]\n",
    "    color_map = section.groupby('parcellation_structure')['parcellation_structure_color'].first().to_dict()\n",
    "\n",
    "    hv_ds = hv.Dataset(section.groupby(['parcellation_structure'])[gene].apply(percentage_above_threshold_MER).sort_values(ascending=False).head(20).reset_index(), \n",
    "                       kdims=['parcellation_structure'], vdims=[gene])\n",
    "    \n",
    "    # Create the vertical Bar chart with rotated xticklabels\n",
    "    bar_plot = hv.Bars(hv_ds).opts(\n",
    "        color=dim('parcellation_structure').categorize(color_map, 'gray'),\n",
    "        active_tools=[],\n",
    "        tools=[\"hover\"],\n",
    "        responsive=True,\n",
    "        frame_height=100,\n",
    "        invert_axes=False,\n",
    "        xrotation=90  # Rotate xticklabels by 90 degrees\n",
    "    )\n",
    "    return bar_plot\n",
    "# Update inter to use the combined_plot function\n",
    "\n",
    "pn.Column(pn.Row(gene_selector, dataset_selector, slider, section_name_display) , pn.Row( class_selector, subclass_selector, update_button), pn.Row(plot_expr_across_slices), plot_bar, plot_section)\n",
    "\n",
    "\n",
    "# Title of the paper and authors\n",
    "# Custom HTML for the title\n",
    "custom_title_html = \"\"\"\n",
    "            <div style=\"text-align: center; max-width: 1200px; margin: 20px auto;\">\n",
    "            <h1 style=\"font-weight: 900; font-size: 3rem; margin: 0rem\">\n",
    "                  Transcriptomic Mapping of the 5-HT Receptor Landscape\n",
    "            </h1>\n",
    "            <h2 style=\"font-weight: 450; font-size: 1rem; margin: 0rem\">\n",
    "            Roberto De Filippo<sup>#</sup>, Dietmar Schmitz\n",
    "            </h2>\n",
    "            <h2 style=\"font-weight: 450; font-size: 1rem; margin: 0rem\">\n",
    "            <sup>#</sup>Corresponding author\n",
    "            </h2>\n",
    "            <h2 style=\"font-weight: 450; font-size: 1rem; margin: 0rem\">\n",
    "            [<a href=\"https://github.com/RobertoDF/5-HT2A-MERFISH\" style=\"color:blue;\">Article</a>]\n",
    "            [<a href=\"https://github.com/RobertoDF/5-HT2A-MERFISH\" style=\"color:blue;\">Github</a>]\n",
    "            </h2>\n",
    "            <h2 style=\"font-weight: 450; font-size: 1rem;\">\n",
    "            Custom visualizer for MERFISH dataset provided by [<a href=\"https://www.nature.com/articles/s41586-023-06808-9\" style=\"color:blue;\">Zhang et al., 2023</a>] </h2>\n",
    "            <h2 style=\"font-weight: 450; font-size: 1rem;\">\n",
    "            By <b>Roberto De Filippo</b>\n",
    "            </h2>\n",
    "            </div>\n",
    "            \"\"\"\n",
    "\n",
    "# Create a Panel HTML pane with the custom title\n",
    "custom_title_pane = pn.pane.HTML(custom_title_html, sizing_mode='stretch_width')"
   ]
  },
  {
   "cell_type": "code",
   "execution_count": null,
   "id": "012a5b12-4d28-41e8-9370-e5e4bfec4df4",
   "metadata": {
    "editable": true,
    "slideshow": {
     "slide_type": ""
    },
    "tags": []
   },
   "outputs": [],
   "source": [
    "# Construct the layout with the custom title\n",
    "# pn.Column(\n",
    "#     custom_title_pane,\n",
    "#     pn.Row(gene_selector, dataset_selector, slider, section_name_display),\n",
    "#     pn.Row(class_selector, subclass_selector, update_button),\n",
    "#     pn.Row(plot_expr_across_slices),\n",
    "#     plot_bar,\n",
    "#     plot_section\n",
    "# )"
   ]
  },
  {
   "cell_type": "code",
   "execution_count": null,
   "id": "0aa5b9ca-3076-43a4-8fbb-703795e65018",
   "metadata": {},
   "outputs": [],
   "source": [
    "import param"
   ]
  },
  {
   "cell_type": "code",
   "execution_count": null,
   "id": "f071448f-8288-461b-9986-9a77b4231b09",
   "metadata": {},
   "outputs": [],
   "source": [
    "import ipywidgets as widgets\n",
    "from ipywidgets import interactive\n",
    "from ipywidgets import HBox, VBox\n",
    "import matplotlib.pyplot as plt\n",
    "import matplotlib.gridspec as gridspec\n",
    "from tqdm.notebook import tqdm\n",
    "import seaborn as sns\n",
    "import matplotlib.patheffects as path_effects\n",
    "import matplotlib.colors as mcolors"
   ]
  },
  {
   "cell_type": "code",
   "execution_count": null,
   "id": "53665ae4-9fa0-4769-a169-a6a1d05db1c6",
   "metadata": {},
   "outputs": [],
   "source": [
    "def plot_class_expression_split_by_categories(subfig,  cls, df_subset, gene):\n",
    "    axs = subfig.subplots(4,1)\n",
    "    subfig.subplots_adjust(left=0.05, right=.95)\n",
    "    \n",
    "    \n",
    "    sns.violinplot(data=df_subset, y=f'{gene} prevalence (%)', x='subclass', hue='subclass' ,ax=axs[0], palette= classification_cmap, fill=False)\n",
    "        \n",
    "    # Set the title with desired modifications\n",
    "    title = axs[0].set_title(cls, color=classification_cmap[cls], fontweight='bold', fontsize=20)\n",
    "    title.set_path_effects([path_effects.withStroke(linewidth=3, foreground='black')])\n",
    "        \n",
    "    subfig.set_facecolor(mcolors.to_rgba(classification_cmap[cls], alpha=0.15) )\n",
    "    \n",
    "    axs[0].set_ylim(0, 100)  # Set y-axis limit to 1\n",
    "    axs[0].xaxis.set_ticks_position('top') \n",
    "    axs[0].tick_params(axis='x', length=0)\n",
    "    \n",
    "    sns.violinplot(data=df_subset, y=f'{gene} prevalence (%)', x='supertype', hue='supertype' ,ax=axs[1], palette= classification_cmap, fill=False)\n",
    "    axs[1].set_title(cls)\n",
    "    axs[1].set_ylim(0, 100)  # Set y-axis limit to 1\n",
    "    \n",
    "    \n",
    "    sns.barplot(data=df_subset, y=f'{gene} prevalence (%)', x='cluster',hue='cluster' ,ax=axs[2], palette= classification_cmap)\n",
    "    axs[2].set_title(cls)\n",
    "    axs[2].set_ylim(0, 100)  # Set y-axis limit to 1\n",
    "    \n",
    "    axs[2].set( ylabel='')\n",
    "    axs[0].set( ylabel='')\n",
    "    axs[2].set(xticks=[], xlabel='')\n",
    "    axs[1].set(xticks=[], xlabel='')\n",
    "    axs[0].set(xticks=[], xlabel='')\n",
    "    axs[0].set( xlabel='')\n",
    "    axs[2].set(xticks=[], xlabel='')\n",
    "    axs[2].set(xticks=[], xlabel='')\n",
    "    axs[1].set_title('')\n",
    "    axs[2].set_title('')\n",
    "    plt.draw()\n",
    "    for tick in axs[0].get_xticklabels():\n",
    "        tick.set_color(classification_cmap[tick.get_text()])\n",
    "    \n",
    "    # Identify positions for subclass delimiters in the cluster graph\n",
    "    subclass_ends = df_subset.groupby('subclass').size().cumsum()\n",
    "    subclass_positions = subclass_ends - 1\n",
    "    \n",
    "    # For the third plot (clusters):\n",
    "    for pos in subclass_positions[:-1]:\n",
    "        axs[2].axvline(pos + 0.5, color='gray', linestyle='--')\n",
    "    \n",
    "    # For the first plot (subclass), simply draw lines between unique subclasses\n",
    "    for i in range(1, len(df_subset['subclass'].unique())):\n",
    "        axs[0].axvline(i - 0.5, color='gray', linestyle='--')\n",
    "    \n",
    "    # For the second plot (supertype), the position will be based on unique supertypes per subclass\n",
    "    supertype_ends = df_subset.groupby('subclass')['supertype'].nunique().cumsum()\n",
    "    supertype_positions = supertype_ends - 1\n",
    "    for pos in supertype_positions[:-1]:\n",
    "        axs[1].axvline(pos + 0.5, color='gray', linestyle='--')\n",
    "    \n",
    "    \n",
    "    # For the first plot (subclass):\n",
    "    subclasses = df_subset['subclass'].unique()\n",
    "    start = -.5\n",
    "    for i, subclass in enumerate(subclasses):\n",
    "        end = i + 0.5\n",
    "        color = classification_cmap[subclass]\n",
    "        axs[0].axvspan(start+.05, end-.05, facecolor=color, alpha=0.15)\n",
    "        start = end\n",
    "    \n",
    "    \n",
    "    # For the second plot (supertype), determine filling areas based on unique supertypes per subclass\n",
    "    supertype_ends = df_subset.groupby('subclass')['supertype'].nunique().cumsum()\n",
    "    supertype_positions = supertype_ends - 1\n",
    "    \n",
    "    previous_position = -0.5  # initialize to start from the first entry\n",
    "    for idx, pos in enumerate(supertype_positions):\n",
    "        current_position = pos + 0.5\n",
    "        # Retrieve the subclass name for the current supertype\n",
    "        subclass_name = df_subset['subclass'].unique()[idx]\n",
    "        color = classification_cmap[subclass_name]\n",
    "        \n",
    "        axs[1].axvspan(previous_position + 0.2, current_position -.2, facecolor=color, alpha=0.15)\n",
    "    \n",
    "        previous_position = current_position  # set for the next iteration\n",
    "    \n",
    "    ####third plot filling\n",
    "    # Get a mapping of subclasses to their dominant cluster\n",
    "    subclass_to_cluster = df_subset.groupby('subclass')['cluster'].apply(lambda x: x.value_counts().idxmax())\n",
    "    \n",
    "    # Define previous position to help us fill areas between borders\n",
    "    prev_pos = 0\n",
    "    \n",
    "    # Iterate over the subclass positions and the corresponding subclasses\n",
    "    for idx, (subclass, cluster) in enumerate(subclass_to_cluster.items()):\n",
    "        # Get the color for this subclass's dominant cluster from your cmap\n",
    "        color_value = classification_cmap[cluster]\n",
    "        \n",
    "        # End position is either the next border position or the end of the plot\n",
    "        end_pos = subclass_positions[idx] if idx < len(subclass_positions) else len(df_subset['cluster']) - 1\n",
    "        \n",
    "        # Fill the area with the given color\n",
    "        axs[2].fill_between([prev_pos, end_pos], 0, 100, color=color_value, alpha=0.15)\n",
    "        \n",
    "        # Update the previous position to the current position\n",
    "        prev_pos = end_pos + 1\n",
    "    \n",
    "    # Adjust the xlim of each axis\n",
    "    axs[0].set_xlim(-0.5, len(df_subset['subclass'].unique()) - 0.5)\n",
    "    axs[1].set_xlim(-0.5, len(df_subset['supertype'].unique()) - 0.5)\n",
    "    axs[2].set_xlim(-.8, len(df_subset['cluster'].unique()))\n",
    "\n",
    "    # Now, add legend in the fourth axis:\n",
    "    patches = [plt.Line2D([0], [0], color=classification_cmap[c], lw=8) for c in df_subset[\"subclass\"].unique()]\n",
    "    labels = list(df_subset[\"subclass\"].unique())\n",
    "    \n",
    "    axs[3].legend(patches, labels, loc='center', ncol=6, handlelength=1.8, handleheight=1)\n",
    "    axs[3].axis('off')  # Hide axis\n",
    "\n",
    "    sns.despine(bottom=True)  \n",
    "\n"
   ]
  },
  {
   "cell_type": "code",
   "execution_count": null,
   "id": "28dc84fa-2707-4f41-a03f-c90057caba82",
   "metadata": {},
   "outputs": [],
   "source": [
    "for key in sub_cell_expression.keys():\n",
    "    total_bytes = sub_cell_expression[key].memory_usage(index=True).sum()\n",
    "    _ = total_bytes / (1024 ** 2)\n",
    "    size_in_mb += _\n",
    "size_in_mb "
   ]
  },
  {
   "cell_type": "code",
   "execution_count": null,
   "id": "6a5e335e-d321-41b3-8738-e502b787ae8a",
   "metadata": {},
   "outputs": [],
   "source": [
    "def interactive_plot(group, gene):\n",
    "    global global_saved_fig, group_g, gene_g\n",
    "    data = joined_with_membership[joined_with_membership[\"cluster_group_name\"]==group]\n",
    "    data = data.groupby([\"cluster_group_name\",\"class\",\"subclass\", \"supertype\", \"cluster\"])[gene].apply(percentage_above_threshold).reset_index()\n",
    "    data = data[data[\"cluster_group_name\"]!=\"WholeBrain\"]\n",
    "    data[\"cluster_group_name\"] = pd.Categorical(data[\"cluster_group_name\"], categories=neuron_cluster_groups_order, ordered=True)\n",
    "    data = data.sort_values(by=[\"cluster_group_name\", \"class\"])\n",
    "\n",
    "    data.rename(columns={gene: f'{gene} prevalence (%)'}, inplace=True)\n",
    "\n",
    "    fig = plt.figure(figsize=(25, 5*data['class'].nunique()))\n",
    "    fig.suptitle(group, fontsize=16)\n",
    "    gs = gridspec.GridSpec(data['class'].nunique(), 1)\n",
    "\n",
    "    \n",
    "    for n, cls in tqdm(enumerate(data['class'].unique()), total=len(data['class'].unique()), desc=\"Plotting\"):\n",
    "        df_subset = data[data['class'] == cls]\n",
    "        subfig = fig.add_subfigure(gs[n,:])   \n",
    "        subfig.subplots_adjust(left=0.05, right=.95, bottom=0.01)\n",
    "        plot_class_expression_split_by_categories(subfig, cls, df_subset, gene)\n",
    "\n",
    "    global_saved_fig = fig\n",
    "    group_g = group\n",
    "    gene_g = gene\n",
    "    return fig.suptitle(group, y=1.02, fontweight='bold', fontsize=20);"
   ]
  },
  {
   "cell_type": "code",
   "execution_count": null,
   "id": "94eb6615-a135-4f31-ad01-b07ea88af6c5",
   "metadata": {},
   "outputs": [],
   "source": [
    "classification_cmap = joined.drop_duplicates(subset='subclass').set_index('subclass')['subclass_color'].to_dict()\n",
    "classification_cmap.update(joined.drop_duplicates(subset='supertype').set_index('supertype')['subclass_color'].to_dict())\n",
    "classification_cmap.update(joined.drop_duplicates(subset='cluster').set_index('cluster')['subclass_color'].to_dict())\n",
    "classification_cmap.update(joined.drop_duplicates(subset='class').set_index('class')['class_color'].to_dict())\n"
   ]
  },
  {
   "cell_type": "code",
   "execution_count": null,
   "id": "8762f871-aff5-4e67-8dd5-62dfd67497e9",
   "metadata": {},
   "outputs": [],
   "source": [
    "def save_fig():\n",
    "    if global_saved_fig:\n",
    "        global_saved_fig.savefig(Path(output_folder, f\"{group_g}-{gene_g}.png\"))\n",
    "        print(f\"Saved\")\n",
    "    else:\n",
    "        print(\"No figure to save\")"
   ]
  },
  {
   "cell_type": "code",
   "execution_count": null,
   "id": "ca57e6ec-63e7-4f60-9082-91d642561beb",
   "metadata": {},
   "outputs": [],
   "source": [
    "gene_filtered  = pd.read_csv(Path(output_folder_calculations, \"selected_genes_RNAseq.csv\"))\n",
    "selected_genes_cl = np.sort(gene_filtered[\"gene_symbol\"].values)"
   ]
  },
  {
   "cell_type": "code",
   "execution_count": null,
   "id": "37d54b3f-4323-4cd3-a09e-5f0679a97515",
   "metadata": {},
   "outputs": [],
   "source": [
    "# Using interact with both gene and group dropdowns\n",
    "save_button = widgets.Button(description=\"Save Figure\")\n",
    "save_button.on_click(lambda b: save_fig())\n",
    "\n",
    "\n",
    "widget1 = widgets.Dropdown(\n",
    "    options=neuron_cluster_groups_order,\n",
    "    value=neuron_cluster_groups_order[0],\n",
    "    description='Group:'\n",
    ")\n",
    "\n",
    "widget2 = widgets.Dropdown(\n",
    "    options=selected_genes_cl,\n",
    "    value=selected_genes_cl[0],\n",
    "    description='Gene:'\n",
    ")\n",
    "\n",
    "w = interactive(interactive_plot, group=widget1, gene=widget2)\n",
    "\n",
    "#pn.panel(VBox([HBox([w.children[0], w.children[1], save_button]), w.children[-1]]))\n",
    "#display(w.children[-1])"
   ]
  },
  {
   "cell_type": "code",
   "execution_count": null,
   "id": "c9be84d2-a563-4346-8770-99620794ba2c",
   "metadata": {},
   "outputs": [],
   "source": [
    "# Construct the layout with the custom title\n",
    "pn.template.BootstrapTemplate( header_background=\"#F9B9B7\", logo=\"https://upload.wikimedia.org/wikipedia/commons/5/51/Logo_Charite.svg\",  title=\"5-HT Transcriptomics\", main=pn.Column(\n",
    "    custom_title_pane,\n",
    "    pn.Tabs((\"Spatial\", pn.Column(pn.Row(gene_selector, dataset_selector, slider, section_name_display),\n",
    "    pn.Row(class_selector, subclass_selector, update_button),\n",
    "    pn.Row(plot_expr_across_slices),\n",
    "    plot_bar,\n",
    "    plot_section)),  (\"Clustering\", pn.panel(VBox([HBox([w.children[0], w.children[1], save_button]), w.children[-1]])) ), dynamic=True)\n",
    ")).show()"
   ]
  },
  {
   "cell_type": "code",
   "execution_count": null,
   "id": "388e9b54-0f9e-4c3c-a035-045e00d9fda9",
   "metadata": {},
   "outputs": [],
   "source": []
  }
 ],
 "metadata": {
  "kernelspec": {
   "display_name": "Python 3 (ipykernel)",
   "language": "python",
   "name": "python3"
  },
  "language_info": {
   "codemirror_mode": {
    "name": "ipython",
    "version": 3
   },
   "file_extension": ".py",
   "mimetype": "text/x-python",
   "name": "python",
   "nbconvert_exporter": "python",
   "pygments_lexer": "ipython3",
   "version": "3.8.17"
  }
 },
 "nbformat": 4,
 "nbformat_minor": 5
}
