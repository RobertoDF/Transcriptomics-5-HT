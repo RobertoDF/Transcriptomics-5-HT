{
 "cells": [
  {
   "cell_type": "markdown",
   "metadata": {
    "tags": []
   },
   "source": [
    "# Load MERFISH data "
   ]
  },
  {
   "cell_type": "code",
   "execution_count": 1,
   "metadata": {},
   "outputs": [],
   "source": [
    "import requests\n",
    "import json\n",
    "import os\n",
    "os.chdir(\"..\")\n",
    "import pathlib\n",
    "import subprocess\n",
    "import time\n",
    "import pandas as pd\n",
    "from tqdm.notebook import tqdm\n",
    "from Utils.Settings import root_data, version"
   ]
  },
  {
   "cell_type": "markdown",
   "metadata": {},
   "source": [
    "## Using the file manifest"
   ]
  },
  {
   "cell_type": "markdown",
   "metadata": {},
   "source": [
    "Let's open the manifest.json file associated with the current release."
   ]
  },
  {
   "cell_type": "code",
   "execution_count": 2,
   "metadata": {},
   "outputs": [
    {
     "name": "stdout",
     "output_type": "stream",
     "text": [
      "version:  20230830\n"
     ]
    }
   ],
   "source": [
    "\n",
    "url = 'https://allen-brain-cell-atlas.s3-us-west-2.amazonaws.com/releases/%s/manifest.json' % version\n",
    "manifest = json.loads(requests.get(url).text)\n",
    "print(\"version: \", manifest['version'])"
   ]
  },
  {
   "cell_type": "markdown",
   "metadata": {},
   "source": [
    "At the top level, the manifest consists of the release *version* tag, S3 *resource_uri*,  dictionaries *directory_listing* and *file_listing*. A simple option to download data is to use the AWS CLI to download specific directories or files. All the example notebooks in this repository assumes that data has been downloaded locally in the same file organization as specified by the \"relative_path\" field in the manifest."
   ]
  },
  {
   "cell_type": "code",
   "execution_count": 3,
   "metadata": {},
   "outputs": [
    {
     "name": "stdout",
     "output_type": "stream",
     "text": [
      "version: 20230830\n",
      "resource_uri: s3://allen-brain-cell-atlas/\n"
     ]
    }
   ],
   "source": [
    "manifest.keys()\n",
    "print(\"version:\",manifest['version'])\n",
    "print(\"resource_uri:\",manifest['resource_uri'])"
   ]
  },
  {
   "cell_type": "markdown",
   "metadata": {},
   "source": [
    "Let's look at the information associated with the spatial transcriptomics dataset **MERFISH-C57BL6J-638850**. This dataset has two related directories: *expression_matrices* containing a set of h5ad files and *metadata* containing a set of csv files. Use the *view_link* url to browse the directories on a web-browser."
   ]
  },
  {
   "cell_type": "code",
   "execution_count": 4,
   "metadata": {},
   "outputs": [
    {
     "name": "stdout",
     "output_type": "stream",
     "text": [
      "{'version': '20230830', 'relative_path': 'expression_matrices/MERFISH-C57BL6J-638850/20230830', 'url': 'https://allen-brain-cell-atlas.s3.us-west-2.amazonaws.com/expression_matrices/MERFISH-C57BL6J-638850/20230830/', 'view_link': 'https://allen-brain-cell-atlas.s3.us-west-2.amazonaws.com/index.html#expression_matrices/MERFISH-C57BL6J-638850/20230830/', 'total_size': 15255179148}\n",
      "https://allen-brain-cell-atlas.s3.us-west-2.amazonaws.com/index.html#expression_matrices/MERFISH-C57BL6J-638850/20230830/\n"
     ]
    }
   ],
   "source": [
    "expression_matrices = manifest['directory_listing']['MERFISH-C57BL6J-638850']['directories']['expression_matrices']\n",
    "print(expression_matrices)\n",
    "print(expression_matrices['view_link'])"
   ]
  },
  {
   "cell_type": "code",
   "execution_count": 5,
   "metadata": {},
   "outputs": [
    {
     "name": "stdout",
     "output_type": "stream",
     "text": [
      "{'version': '20230830', 'relative_path': 'metadata/MERFISH-C57BL6J-638850/20230830', 'url': 'https://allen-brain-cell-atlas.s3.us-west-2.amazonaws.com/metadata/MERFISH-C57BL6J-638850/20230830/', 'view_link': 'https://allen-brain-cell-atlas.s3.us-west-2.amazonaws.com/index.html#metadata/MERFISH-C57BL6J-638850/20230830/', 'total_size': 1942603772}\n",
      "https://allen-brain-cell-atlas.s3.us-west-2.amazonaws.com/index.html#metadata/MERFISH-C57BL6J-638850/20230830/\n"
     ]
    }
   ],
   "source": [
    "metadata = manifest['directory_listing']['MERFISH-C57BL6J-638850']['directories']['metadata']\n",
    "print(metadata)\n",
    "print(metadata['view_link'])"
   ]
  },
  {
   "cell_type": "markdown",
   "metadata": {},
   "source": [
    "Directory sizes are also reported as part to the manifest.json. WARNING: the expression matrices directories can get very large > 100 GB."
   ]
  },
  {
   "cell_type": "code",
   "execution_count": 6,
   "metadata": {},
   "outputs": [
    {
     "name": "stdout",
     "output_type": "stream",
     "text": [
      "expression_matrices/MERFISH-C57BL6J-638850/20230830 : 14.21 GB\n",
      "metadata/MERFISH-C57BL6J-638850/20230830 : 1.81 GB\n",
      "expression_matrices/MERFISH-C57BL6J-638850-sections/20230630 : 14.31 GB\n",
      "expression_matrices/WMB-10Xv2/20230630 : 104.16 GB\n",
      "expression_matrices/WMB-10Xv3/20230630 : 176.41 GB\n",
      "expression_matrices/WMB-10XMulti/20230830 : 0.21 GB\n",
      "metadata/WMB-10X/20230830 : 2.39 GB\n",
      "metadata/WMB-taxonomy/20230830 : 0.01 GB\n",
      "metadata/WMB-neighborhoods/20230830 : 3.00 GB\n",
      "image_volumes/Allen-CCF-2020/20230630 : 0.37 GB\n",
      "metadata/Allen-CCF-2020/20230630 : 0.00 GB\n",
      "image_volumes/MERFISH-C57BL6J-638850-CCF/20230630 : 0.11 GB\n",
      "metadata/MERFISH-C57BL6J-638850-CCF/20230830 : 2.01 GB\n",
      "expression_matrices/Zhuang-ABCA-1/20230830 : 3.09 GB\n",
      "metadata/Zhuang-ABCA-1/20230830 : 1.33 GB\n",
      "metadata/Zhuang-ABCA-1-CCF/20230830 : 0.21 GB\n",
      "expression_matrices/Zhuang-ABCA-2/20230830 : 1.30 GB\n",
      "metadata/Zhuang-ABCA-2/20230830 : 0.57 GB\n",
      "metadata/Zhuang-ABCA-2-CCF/20230830 : 0.08 GB\n",
      "expression_matrices/Zhuang-ABCA-3/20230830 : 1.69 GB\n",
      "metadata/Zhuang-ABCA-3/20230830 : 0.74 GB\n",
      "metadata/Zhuang-ABCA-3-CCF/20230830 : 0.12 GB\n",
      "expression_matrices/Zhuang-ABCA-4/20230830 : 0.16 GB\n",
      "metadata/Zhuang-ABCA-4/20230830 : 0.08 GB\n",
      "metadata/Zhuang-ABCA-4-CCF/20230830 : 0.01 GB\n"
     ]
    }
   ],
   "source": [
    "GB = float(float(1024) ** 3)\n",
    "\n",
    "for r in manifest['directory_listing'] :    \n",
    "    r_dict =  manifest['directory_listing'][r]\n",
    "    for d in r_dict['directories'] :\n",
    "        d_dict = r_dict['directories'][d]        \n",
    "        print(d_dict['relative_path'],\":\",'%0.2f GB' % (d_dict['total_size']/GB))\n",
    "        "
   ]
  },
  {
   "cell_type": "markdown",
   "metadata": {},
   "source": [
    "## Downloading files for the tutorial notebooks"
   ]
  },
  {
   "cell_type": "markdown",
   "metadata": {},
   "source": [
    "Suppose you would like to download data to your local path *../abc_download_root*."
   ]
  },
  {
   "cell_type": "code",
   "execution_count": 7,
   "metadata": {},
   "outputs": [],
   "source": [
    "download_base = f'{root_data}/abc_download_root'"
   ]
  },
  {
   "cell_type": "markdown",
   "metadata": {},
   "source": [
    "### Downloading all metadata directories\n",
    "\n",
    "Since the metadata directories are relatively small we will download all the metadata directories. We loop through the manifest and download each metadata directory using  **[AWS CLI](https://aws.amazon.com/cli/)** sync command. This should take < 5 minutes."
   ]
  },
  {
   "cell_type": "code",
   "execution_count": 21,
   "metadata": {},
   "outputs": [
    {
     "name": "stdout",
     "output_type": "stream",
     "text": [
      "/alzheimer/Roberto/bin/aws s3 sync --no-sign-request s3://allen-brain-cell-atlas/metadata/MERFISH-C57BL6J-638850/20230830 /alzheimer/Roberto/Allen_Institute/abc_download_root/metadata/MERFISH-C57BL6J-638850/20230830\n"
     ]
    },
    {
     "ename": "KeyboardInterrupt",
     "evalue": "",
     "output_type": "error",
     "traceback": [
      "\u001b[0;31m---------------------------------------------------------------------------\u001b[0m",
      "\u001b[0;31mKeyboardInterrupt\u001b[0m                         Traceback (most recent call last)",
      "Cell \u001b[0;32mIn[21], line 19\u001b[0m\n\u001b[1;32m     17\u001b[0m start \u001b[38;5;241m=\u001b[39m time\u001b[38;5;241m.\u001b[39mprocess_time()\n\u001b[1;32m     18\u001b[0m \u001b[38;5;66;03m# Uncomment to download directories\u001b[39;00m\n\u001b[0;32m---> 19\u001b[0m result \u001b[38;5;241m=\u001b[39m \u001b[43msubprocess\u001b[49m\u001b[38;5;241;43m.\u001b[39;49m\u001b[43mrun\u001b[49m\u001b[43m(\u001b[49m\u001b[43mcommand\u001b[49m\u001b[38;5;241;43m.\u001b[39;49m\u001b[43msplit\u001b[49m\u001b[43m(\u001b[49m\u001b[43m)\u001b[49m\u001b[43m,\u001b[49m\u001b[43mstdout\u001b[49m\u001b[38;5;241;43m=\u001b[39;49m\u001b[43msubprocess\u001b[49m\u001b[38;5;241;43m.\u001b[39;49m\u001b[43mPIPE\u001b[49m\u001b[43m)\u001b[49m\n\u001b[1;32m     20\u001b[0m \u001b[38;5;28mprint\u001b[39m(\u001b[38;5;124m\"\u001b[39m\u001b[38;5;124mtime taken: \u001b[39m\u001b[38;5;124m\"\u001b[39m, time\u001b[38;5;241m.\u001b[39mprocess_time() \u001b[38;5;241m-\u001b[39m start)\n",
      "File \u001b[0;32m/alzheimer/Roberto/Software/mambaforge/envs/synthetic_surprise/lib/python3.8/subprocess.py:495\u001b[0m, in \u001b[0;36mrun\u001b[0;34m(input, capture_output, timeout, check, *popenargs, **kwargs)\u001b[0m\n\u001b[1;32m    493\u001b[0m \u001b[38;5;28;01mwith\u001b[39;00m Popen(\u001b[38;5;241m*\u001b[39mpopenargs, \u001b[38;5;241m*\u001b[39m\u001b[38;5;241m*\u001b[39mkwargs) \u001b[38;5;28;01mas\u001b[39;00m process:\n\u001b[1;32m    494\u001b[0m     \u001b[38;5;28;01mtry\u001b[39;00m:\n\u001b[0;32m--> 495\u001b[0m         stdout, stderr \u001b[38;5;241m=\u001b[39m \u001b[43mprocess\u001b[49m\u001b[38;5;241;43m.\u001b[39;49m\u001b[43mcommunicate\u001b[49m\u001b[43m(\u001b[49m\u001b[38;5;28;43minput\u001b[39;49m\u001b[43m,\u001b[49m\u001b[43m \u001b[49m\u001b[43mtimeout\u001b[49m\u001b[38;5;241;43m=\u001b[39;49m\u001b[43mtimeout\u001b[49m\u001b[43m)\u001b[49m\n\u001b[1;32m    496\u001b[0m     \u001b[38;5;28;01mexcept\u001b[39;00m TimeoutExpired \u001b[38;5;28;01mas\u001b[39;00m exc:\n\u001b[1;32m    497\u001b[0m         process\u001b[38;5;241m.\u001b[39mkill()\n",
      "File \u001b[0;32m/alzheimer/Roberto/Software/mambaforge/envs/synthetic_surprise/lib/python3.8/subprocess.py:1015\u001b[0m, in \u001b[0;36mPopen.communicate\u001b[0;34m(self, input, timeout)\u001b[0m\n\u001b[1;32m   1013\u001b[0m     \u001b[38;5;28mself\u001b[39m\u001b[38;5;241m.\u001b[39m_stdin_write(\u001b[38;5;28minput\u001b[39m)\n\u001b[1;32m   1014\u001b[0m \u001b[38;5;28;01melif\u001b[39;00m \u001b[38;5;28mself\u001b[39m\u001b[38;5;241m.\u001b[39mstdout:\n\u001b[0;32m-> 1015\u001b[0m     stdout \u001b[38;5;241m=\u001b[39m \u001b[38;5;28;43mself\u001b[39;49m\u001b[38;5;241;43m.\u001b[39;49m\u001b[43mstdout\u001b[49m\u001b[38;5;241;43m.\u001b[39;49m\u001b[43mread\u001b[49m\u001b[43m(\u001b[49m\u001b[43m)\u001b[49m\n\u001b[1;32m   1016\u001b[0m     \u001b[38;5;28mself\u001b[39m\u001b[38;5;241m.\u001b[39mstdout\u001b[38;5;241m.\u001b[39mclose()\n\u001b[1;32m   1017\u001b[0m \u001b[38;5;28;01melif\u001b[39;00m \u001b[38;5;28mself\u001b[39m\u001b[38;5;241m.\u001b[39mstderr:\n",
      "\u001b[0;31mKeyboardInterrupt\u001b[0m: "
     ]
    }
   ],
   "source": [
    "for r in manifest['directory_listing'] :\n",
    "    \n",
    "    r_dict =  manifest['directory_listing'][r]\n",
    "    \n",
    "    for d in r_dict['directories'] :\n",
    "        \n",
    "        if d != 'metadata' :\n",
    "            continue\n",
    "        d_dict = r_dict['directories'][d]\n",
    "        local_path = os.path.join( download_base, d_dict['relative_path'])\n",
    "        local_path = pathlib.Path( local_path )\n",
    "        remote_path = manifest['resource_uri'] + d_dict['relative_path']\n",
    "        \n",
    "        command = \"/alzheimer/Roberto/bin/aws s3 sync --no-sign-request %s %s\" % (remote_path, local_path)\n",
    "        print(command)\n",
    "        \n",
    "        start = time.process_time()\n",
    "        # Uncomment to download directories\n",
    "        result = subprocess.run(command.split(),stdout=subprocess.PIPE)\n",
    "        print(\"time taken: \", time.process_time() - start)\n",
    "  "
   ]
  },
  {
   "cell_type": "markdown",
   "metadata": {},
   "source": [
    "### Downloading one 10x expression matrix\n",
    "The prerequisite to run the 10x part 1 notebook is to have downloaded the log2 version of the \"'WMB-10Xv2-TH'\" matrix (4GB). Download takes ~ 1 min depending on your network speed. \n",
    "\n",
    "We define a simple helper function to create the require AWS command. You can copy the command into a terminal shell to run or optionally run it inside this notebook if you uncomment the \"subprocess.run\" line of code."
   ]
  },
  {
   "cell_type": "code",
   "execution_count": null,
   "metadata": {},
   "outputs": [],
   "source": [
    "def download_file( file_dict ) :\n",
    "    \n",
    "    print(file_dict['relative_path'],file_dict['size'])\n",
    "    local_path = os.path.join( download_base, file_dict['relative_path'] )\n",
    "    local_path = pathlib.Path( local_path )\n",
    "    remote_path = manifest['resource_uri'] + file_dict['relative_path']\n",
    "\n",
    "    command = \"/alzheimer/Roberto/bin/aws s3 cp --no-sign-request %s %s\" % (remote_path, local_path)\n",
    "    print(command)\n",
    "\n",
    "    start = time.process_time()\n",
    "    # Uncomment to download file\n",
    "    result = subprocess.run(command.split(' '),stdout=subprocess.PIPE)\n",
    "    print(\"time taken: \", time.process_time() - start)"
   ]
  },
  {
   "cell_type": "code",
   "execution_count": null,
   "metadata": {},
   "outputs": [],
   "source": [
    "expression_matrices = manifest['file_listing']['WMB-10Xv2']['expression_matrices']\n",
    "file_dict = expression_matrices['WMB-10Xv2-Isocortex-3']['log2']['files']['h5ad']\n",
    "print('size:',file_dict['size'])\n",
    "download_file( file_dict )"
   ]
  },
  {
   "cell_type": "markdown",
   "metadata": {},
   "source": [
    "### Downloading all matrices"
   ]
  },
  {
   "cell_type": "code",
   "execution_count": 31,
   "metadata": {},
   "outputs": [],
   "source": [
    "version = '20230830'\n",
    "download_base = '/alzheimer/Roberto/Allen_Institute/abc_download_root'\n",
    "\n",
    "use_local_cache = False\n",
    "manifest_path = 'releases/%s/manifest.json' % version\n",
    "\n",
    "if not use_local_cache :\n",
    "    url = 'https://allen-brain-cell-atlas.s3-us-west-2.amazonaws.com/' + manifest_path\n",
    "    manifest = json.loads(requests.get(url).text)\n",
    "else :\n",
    "    file = os.path.join(download_base,manifest_path)\n",
    "    with open(file,'rb') as f:\n",
    "        manifest = json.load(f)\n",
    "    \n",
    "metadata = manifest['file_listing']['WMB-10X']['metadata']"
   ]
  },
  {
   "cell_type": "code",
   "execution_count": 32,
   "metadata": {},
   "outputs": [],
   "source": [
    "view_directory = os.path.join( download_base, \n",
    "                               manifest['directory_listing']['WMB-10X']['directories']['metadata']['relative_path'], \n",
    "                              'views')\n",
    "cache_views = False\n",
    "if cache_views :\n",
    "    os.makedirs( view_directory, exist_ok=True )"
   ]
  },
  {
   "cell_type": "code",
   "execution_count": 33,
   "metadata": {},
   "outputs": [],
   "source": [
    "rpath = metadata['cell_metadata']['files']['csv']['relative_path']\n",
    "file = os.path.join( download_base, rpath)\n",
    "cell = pd.read_csv(file)\n",
    "cell.set_index('cell_label',inplace=True)"
   ]
  },
  {
   "cell_type": "code",
   "execution_count": 34,
   "metadata": {},
   "outputs": [
    {
     "data": {
      "text/html": [
       "<div>\n",
       "<style scoped>\n",
       "    .dataframe tbody tr th:only-of-type {\n",
       "        vertical-align: middle;\n",
       "    }\n",
       "\n",
       "    .dataframe tbody tr th {\n",
       "        vertical-align: top;\n",
       "    }\n",
       "\n",
       "    .dataframe thead th {\n",
       "        text-align: right;\n",
       "    }\n",
       "</style>\n",
       "<table border=\"1\" class=\"dataframe\">\n",
       "  <thead>\n",
       "    <tr style=\"text-align: right;\">\n",
       "      <th></th>\n",
       "      <th></th>\n",
       "      <th>cell_count</th>\n",
       "    </tr>\n",
       "    <tr>\n",
       "      <th>dataset_label</th>\n",
       "      <th>feature_matrix_label</th>\n",
       "      <th></th>\n",
       "    </tr>\n",
       "  </thead>\n",
       "  <tbody>\n",
       "    <tr>\n",
       "      <th>WMB-10XMulti</th>\n",
       "      <th>WMB-10XMulti</th>\n",
       "      <td>1687</td>\n",
       "    </tr>\n",
       "    <tr>\n",
       "      <th rowspan=\"10\" valign=\"top\">WMB-10Xv2</th>\n",
       "      <th>WMB-10Xv2-CTXsp</th>\n",
       "      <td>43985</td>\n",
       "    </tr>\n",
       "    <tr>\n",
       "      <th>WMB-10Xv2-HPF</th>\n",
       "      <td>207281</td>\n",
       "    </tr>\n",
       "    <tr>\n",
       "      <th>WMB-10Xv2-HY</th>\n",
       "      <td>99879</td>\n",
       "    </tr>\n",
       "    <tr>\n",
       "      <th>WMB-10Xv2-Isocortex-1</th>\n",
       "      <td>248776</td>\n",
       "    </tr>\n",
       "    <tr>\n",
       "      <th>WMB-10Xv2-Isocortex-2</th>\n",
       "      <td>249360</td>\n",
       "    </tr>\n",
       "    <tr>\n",
       "      <th>WMB-10Xv2-Isocortex-3</th>\n",
       "      <td>249356</td>\n",
       "    </tr>\n",
       "    <tr>\n",
       "      <th>WMB-10Xv2-Isocortex-4</th>\n",
       "      <td>248784</td>\n",
       "    </tr>\n",
       "    <tr>\n",
       "      <th>WMB-10Xv2-MB</th>\n",
       "      <td>29781</td>\n",
       "    </tr>\n",
       "    <tr>\n",
       "      <th>WMB-10Xv2-OLF</th>\n",
       "      <td>192182</td>\n",
       "    </tr>\n",
       "    <tr>\n",
       "      <th>WMB-10Xv2-TH</th>\n",
       "      <td>130555</td>\n",
       "    </tr>\n",
       "    <tr>\n",
       "      <th rowspan=\"13\" valign=\"top\">WMB-10Xv3</th>\n",
       "      <th>WMB-10Xv3-CB</th>\n",
       "      <td>181723</td>\n",
       "    </tr>\n",
       "    <tr>\n",
       "      <th>WMB-10Xv3-CTXsp</th>\n",
       "      <td>78223</td>\n",
       "    </tr>\n",
       "    <tr>\n",
       "      <th>WMB-10Xv3-HPF</th>\n",
       "      <td>181055</td>\n",
       "    </tr>\n",
       "    <tr>\n",
       "      <th>WMB-10Xv3-HY</th>\n",
       "      <td>162296</td>\n",
       "    </tr>\n",
       "    <tr>\n",
       "      <th>WMB-10Xv3-Isocortex-1</th>\n",
       "      <td>227670</td>\n",
       "    </tr>\n",
       "    <tr>\n",
       "      <th>WMB-10Xv3-Isocortex-2</th>\n",
       "      <td>227537</td>\n",
       "    </tr>\n",
       "    <tr>\n",
       "      <th>WMB-10Xv3-MB</th>\n",
       "      <td>337101</td>\n",
       "    </tr>\n",
       "    <tr>\n",
       "      <th>WMB-10Xv3-MY</th>\n",
       "      <td>191746</td>\n",
       "    </tr>\n",
       "    <tr>\n",
       "      <th>WMB-10Xv3-OLF</th>\n",
       "      <td>88560</td>\n",
       "    </tr>\n",
       "    <tr>\n",
       "      <th>WMB-10Xv3-P</th>\n",
       "      <td>143157</td>\n",
       "    </tr>\n",
       "    <tr>\n",
       "      <th>WMB-10Xv3-PAL</th>\n",
       "      <td>108046</td>\n",
       "    </tr>\n",
       "    <tr>\n",
       "      <th>WMB-10Xv3-STR</th>\n",
       "      <td>283782</td>\n",
       "    </tr>\n",
       "    <tr>\n",
       "      <th>WMB-10Xv3-TH</th>\n",
       "      <td>130454</td>\n",
       "    </tr>\n",
       "  </tbody>\n",
       "</table>\n",
       "</div>"
      ],
      "text/plain": [
       "                                     cell_count\n",
       "dataset_label feature_matrix_label             \n",
       "WMB-10XMulti  WMB-10XMulti                 1687\n",
       "WMB-10Xv2     WMB-10Xv2-CTXsp             43985\n",
       "              WMB-10Xv2-HPF              207281\n",
       "              WMB-10Xv2-HY                99879\n",
       "              WMB-10Xv2-Isocortex-1      248776\n",
       "              WMB-10Xv2-Isocortex-2      249360\n",
       "              WMB-10Xv2-Isocortex-3      249356\n",
       "              WMB-10Xv2-Isocortex-4      248784\n",
       "              WMB-10Xv2-MB                29781\n",
       "              WMB-10Xv2-OLF              192182\n",
       "              WMB-10Xv2-TH               130555\n",
       "WMB-10Xv3     WMB-10Xv3-CB               181723\n",
       "              WMB-10Xv3-CTXsp             78223\n",
       "              WMB-10Xv3-HPF              181055\n",
       "              WMB-10Xv3-HY               162296\n",
       "              WMB-10Xv3-Isocortex-1      227670\n",
       "              WMB-10Xv3-Isocortex-2      227537\n",
       "              WMB-10Xv3-MB               337101\n",
       "              WMB-10Xv3-MY               191746\n",
       "              WMB-10Xv3-OLF               88560\n",
       "              WMB-10Xv3-P                143157\n",
       "              WMB-10Xv3-PAL              108046\n",
       "              WMB-10Xv3-STR              283782\n",
       "              WMB-10Xv3-TH               130454"
      ]
     },
     "execution_count": 34,
     "metadata": {},
     "output_type": "execute_result"
    }
   ],
   "source": [
    "matrices = cell.groupby(['dataset_label','feature_matrix_label'])[['library_label']].count()\n",
    "matrices.columns  = ['cell_count']\n",
    "matrices"
   ]
  },
  {
   "cell_type": "code",
   "execution_count": 35,
   "metadata": {},
   "outputs": [
    {
     "data": {
      "text/plain": [
       "MultiIndex([('WMB-10XMulti',          'WMB-10XMulti'),\n",
       "            (   'WMB-10Xv2',       'WMB-10Xv2-CTXsp'),\n",
       "            (   'WMB-10Xv2',         'WMB-10Xv2-HPF'),\n",
       "            (   'WMB-10Xv2',          'WMB-10Xv2-HY'),\n",
       "            (   'WMB-10Xv2', 'WMB-10Xv2-Isocortex-1'),\n",
       "            (   'WMB-10Xv2', 'WMB-10Xv2-Isocortex-2'),\n",
       "            (   'WMB-10Xv2', 'WMB-10Xv2-Isocortex-3'),\n",
       "            (   'WMB-10Xv2', 'WMB-10Xv2-Isocortex-4'),\n",
       "            (   'WMB-10Xv2',          'WMB-10Xv2-MB'),\n",
       "            (   'WMB-10Xv2',         'WMB-10Xv2-OLF'),\n",
       "            (   'WMB-10Xv2',          'WMB-10Xv2-TH'),\n",
       "            (   'WMB-10Xv3',          'WMB-10Xv3-CB'),\n",
       "            (   'WMB-10Xv3',       'WMB-10Xv3-CTXsp'),\n",
       "            (   'WMB-10Xv3',         'WMB-10Xv3-HPF'),\n",
       "            (   'WMB-10Xv3',          'WMB-10Xv3-HY'),\n",
       "            (   'WMB-10Xv3', 'WMB-10Xv3-Isocortex-1'),\n",
       "            (   'WMB-10Xv3', 'WMB-10Xv3-Isocortex-2'),\n",
       "            (   'WMB-10Xv3',          'WMB-10Xv3-MB'),\n",
       "            (   'WMB-10Xv3',          'WMB-10Xv3-MY'),\n",
       "            (   'WMB-10Xv3',         'WMB-10Xv3-OLF'),\n",
       "            (   'WMB-10Xv3',           'WMB-10Xv3-P'),\n",
       "            (   'WMB-10Xv3',         'WMB-10Xv3-PAL'),\n",
       "            (   'WMB-10Xv3',         'WMB-10Xv3-STR'),\n",
       "            (   'WMB-10Xv3',          'WMB-10Xv3-TH')],\n",
       "           names=['dataset_label', 'feature_matrix_label'])"
      ]
     },
     "execution_count": 35,
     "metadata": {},
     "output_type": "execute_result"
    }
   ],
   "source": [
    "matrices.index "
   ]
  },
  {
   "cell_type": "code",
   "execution_count": 37,
   "metadata": {},
   "outputs": [
    {
     "name": "stdout",
     "output_type": "stream",
     "text": [
      "WMB-10XMulti WMB-10XMulti size: 89318511\n",
      "WMB-10Xv2 WMB-10Xv2-CTXsp size: 1740441622\n",
      "WMB-10Xv2 WMB-10Xv2-HPF size: 6096269724\n",
      "WMB-10Xv2 WMB-10Xv2-HY size: 2908443982\n",
      "WMB-10Xv2 WMB-10Xv2-Isocortex-1 size: 8601133978\n",
      "WMB-10Xv2 WMB-10Xv2-Isocortex-2 size: 9444387082\n",
      "WMB-10Xv2 WMB-10Xv2-Isocortex-3 size: 8457819034\n",
      "WMB-10Xv2 WMB-10Xv2-Isocortex-4 size: 8692589466\n",
      "WMB-10Xv2 WMB-10Xv2-MB size: 817433734\n",
      "WMB-10Xv2 WMB-10Xv2-OLF size: 5128120156\n",
      "WMB-10Xv2 WMB-10Xv2-TH size: 4038679930\n",
      "WMB-10Xv3 WMB-10Xv3-CB size: 5610691342\n",
      "WMB-10Xv3 WMB-10Xv3-CTXsp size: 3277343842\n",
      "WMB-10Xv3 WMB-10Xv3-HPF size: 7409633208\n",
      "WMB-10Xv3 WMB-10Xv3-HY size: 7248338584\n",
      "WMB-10Xv3 WMB-10Xv3-Isocortex-1 size: 11768194128\n",
      "WMB-10Xv3 WMB-10Xv3-Isocortex-2 size: 8356210362\n",
      "WMB-10Xv3 WMB-10Xv3-MB size: 13726487690\n",
      "WMB-10Xv3 WMB-10Xv3-MY size: 7206054638\n",
      "WMB-10Xv3 WMB-10Xv3-OLF size: 3114998442\n",
      "WMB-10Xv3 WMB-10Xv3-P size: 5200570200\n",
      "WMB-10Xv3 WMB-10Xv3-PAL size: 4067049816\n",
      "WMB-10Xv3 WMB-10Xv3-STR size: 11915297204\n",
      "WMB-10Xv3 WMB-10Xv3-TH size: 5811140682\n"
     ]
    }
   ],
   "source": [
    "for a,b in matrices.index:\n",
    "    expression_matrices = manifest['file_listing'][a]['expression_matrices']\n",
    "    file_dict = expression_matrices[b]['log2']['files']['h5ad']\n",
    "    print(a, b,'size:',file_dict['size'])\n",
    "    download_file( file_dict )"
   ]
  },
  {
   "cell_type": "markdown",
   "metadata": {},
   "source": [
    "### Downloading the MERFISH expression matrix"
   ]
  },
  {
   "cell_type": "markdown",
   "metadata": {},
   "source": [
    "The prerequisite to run the MERFISH part 1 notebook is to have downloaded the log2 version of the \"C57BL6J-638850\" matrix (7GB). Download takes ~3 mins depending on tour network speed."
   ]
  },
  {
   "cell_type": "code",
   "execution_count": null,
   "metadata": {},
   "outputs": [],
   "source": [
    "datasets = ['MERFISH-C57BL6J-638850']\n",
    "for d in datasets :\n",
    "    expression_matrices = manifest['file_listing'][d]['expression_matrices']\n",
    "    file_dict = expression_matrices['C57BL6J-638850']['log2']['files']['h5ad']\n",
    "    print('size:',file_dict['size'])\n",
    "    download_file( file_dict )"
   ]
  },
  {
   "cell_type": "markdown",
   "metadata": {},
   "source": [
    "The prerequisite to run the Zhuang MERFISH notebook is to have downloaded the log2 version of the expression matrices of all 4 brain specimens"
   ]
  },
  {
   "cell_type": "code",
   "execution_count": null,
   "metadata": {},
   "outputs": [],
   "source": [
    "datasets = ['Zhuang-ABCA-1','Zhuang-ABCA-2','Zhuang-ABCA-3','Zhuang-ABCA-4']\n",
    "for d in datasets :\n",
    "    expression_matrices = manifest['file_listing'][d]['expression_matrices']\n",
    "    file_dict = expression_matrices[d]['log2']['files']['h5ad']\n",
    "    print('size:',file_dict['size'])\n",
    "    download_file( file_dict )"
   ]
  },
  {
   "cell_type": "markdown",
   "metadata": {},
   "source": [
    "### Downloading all image volumes\n",
    "\n",
    "The prerequisite to run the CCF and MERFISH to CCF registration notebooks is to have downloaded the two set of image volumes."
   ]
  },
  {
   "cell_type": "code",
   "execution_count": null,
   "metadata": {},
   "outputs": [],
   "source": [
    "for r in manifest['directory_listing'] :\n",
    "    \n",
    "    r_dict =  manifest['directory_listing'][r]\n",
    "    \n",
    "    for d in r_dict['directories'] :\n",
    "        \n",
    "        if d != 'image_volumes' :\n",
    "            continue\n",
    "        d_dict = r_dict['directories'][d]\n",
    "        local_path = os.path.join( download_base, d_dict['relative_path'])\n",
    "        local_path = pathlib.Path( local_path )\n",
    "        remote_path = manifest['resource_uri'] + d_dict['relative_path']\n",
    "        \n",
    "        command = \"/alzheimer/Roberto/bin/aws s3 sync --no-sign-request %s %s\" % (remote_path, local_path)\n",
    "        print(command)\n",
    "        \n",
    "        start = time.process_time()\n",
    "        # Uncomment to download directories\n",
    "        result = subprocess.run(command.split(),stdout=subprocess.PIPE)\n",
    "        print(\"time taken: \", time.process_time() - start)\n",
    "  "
   ]
  },
  {
   "cell_type": "code",
   "execution_count": null,
   "metadata": {},
   "outputs": [],
   "source": []
  }
 ],
 "metadata": {
  "kernelspec": {
   "display_name": "Python 3 (ipykernel)",
   "language": "python",
   "name": "python3"
  },
  "language_info": {
   "codemirror_mode": {
    "name": "ipython",
    "version": 3
   },
   "file_extension": ".py",
   "mimetype": "text/x-python",
   "name": "python",
   "nbconvert_exporter": "python",
   "pygments_lexer": "ipython3",
   "version": "3.8.17"
  }
 },
 "nbformat": 4,
 "nbformat_minor": 4
}
